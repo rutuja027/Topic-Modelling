{
 "cells": [
  {
   "cell_type": "markdown",
   "metadata": {},
   "source": [
    "# CH. 7 - TOPIC MODELS\n",
    "## Exercises"
   ]
  },
  {
   "cell_type": "markdown",
   "metadata": {},
   "source": [
    "#### Exercise 7.01: Load Libraries"
   ]
  },
  {
   "cell_type": "code",
   "execution_count": 1,
   "metadata": {},
   "outputs": [],
   "source": [
    "# not necessary\n",
    "\n",
    "# put this in to block deprecation warnings\n",
    "# from pyLDAvis\n",
    "\n",
    "import warnings\n",
    "warnings.filterwarnings('ignore')"
   ]
  },
  {
   "cell_type": "code",
   "execution_count": 2,
   "metadata": {},
   "outputs": [],
   "source": [
    "import langdetect  # language detection\n",
    "import matplotlib.pyplot  # plotting\n",
    "import nltk  # natural language processing\n",
    "import numpy  # arrays and matrices\n",
    "import pandas  # dataframes\n",
    "import pyLDAvis  # plotting\n",
    "import pyLDAvis.sklearn  # plotting\n",
    "import regex  # regular expressions\n",
    "import sklearn  # machine learning"
   ]
  },
  {
   "cell_type": "code",
   "execution_count": 3,
   "metadata": {},
   "outputs": [
    {
     "name": "stderr",
     "output_type": "stream",
     "text": [
      "[nltk_data] Downloading package wordnet to\n",
      "[nltk_data]     C:\\Users\\user\\AppData\\Roaming\\nltk_data...\n",
      "[nltk_data]   Package wordnet is already up-to-date!\n",
      "[nltk_data] Downloading package stopwords to\n",
      "[nltk_data]     C:\\Users\\user\\AppData\\Roaming\\nltk_data...\n",
      "[nltk_data]   Package stopwords is already up-to-date!\n"
     ]
    },
    {
     "data": {
      "text/plain": [
       "True"
      ]
     },
     "execution_count": 3,
     "metadata": {},
     "output_type": "execute_result"
    }
   ],
   "source": [
    "# installing specific word dictionarys\n",
    "# used for stopword removal and lemmatization\n",
    "\n",
    "nltk.download('wordnet')\n",
    "nltk.download('stopwords')"
   ]
  },
  {
   "cell_type": "code",
   "execution_count": 4,
   "metadata": {},
   "outputs": [],
   "source": [
    "%matplotlib inline"
   ]
  },
  {
   "cell_type": "markdown",
   "metadata": {},
   "source": [
    "#### Exercise 7.02: Load and Examine Data"
   ]
  },
  {
   "cell_type": "code",
   "execution_count": 5,
   "metadata": {},
   "outputs": [],
   "source": [
    "# define path and load data\n",
    "\n",
    "path = \"News_Final.csv\"\n",
    "df = pandas.read_csv(path, header=0)"
   ]
  },
  {
   "cell_type": "code",
   "execution_count": 6,
   "metadata": {},
   "outputs": [],
   "source": [
    "# define quick look function for data frame\n",
    "\n",
    "def dataframe_quick_look(df, nrows):\n",
    "    print(\"SHAPE:\\n{shape}\\n\".format(shape=df.shape))\n",
    "    print(\"COLUMN NAMES:\\n{names}\\n\".format(names=df.columns))\n",
    "    print(\"HEAD:\\n{head}\\n\".format(head=df.head(nrows)))"
   ]
  },
  {
   "cell_type": "code",
   "execution_count": 7,
   "metadata": {},
   "outputs": [
    {
     "name": "stdout",
     "output_type": "stream",
     "text": [
      "SHAPE:\n",
      "(93239, 11)\n",
      "\n",
      "COLUMN NAMES:\n",
      "Index(['IDLink', 'Title', 'Headline', 'Source', 'Topic', 'PublishDate',\n",
      "       'SentimentTitle', 'SentimentHeadline', 'Facebook', 'GooglePlus',\n",
      "       'LinkedIn'],\n",
      "      dtype='object')\n",
      "\n",
      "HEAD:\n",
      "    IDLink                                             Title  \\\n",
      "0  99248.0  Obama Lays Wreath at Arlington National Cemetery   \n",
      "1  10423.0       A Look at the Health of the Chinese Economy   \n",
      "\n",
      "                                            Headline     Source    Topic  \\\n",
      "0  Obama Lays Wreath at Arlington National Cemete...  USA TODAY    obama   \n",
      "1  Tim Haywood, investment director business-unit...  Bloomberg  economy   \n",
      "\n",
      "           PublishDate  SentimentTitle  SentimentHeadline  Facebook  \\\n",
      "0  2002-04-02 00:00:00        0.000000          -0.053300        -1   \n",
      "1  2008-09-20 00:00:00        0.208333          -0.156386        -1   \n",
      "\n",
      "   GooglePlus  LinkedIn  \n",
      "0          -1        -1  \n",
      "1          -1        -1  \n",
      "\n"
     ]
    }
   ],
   "source": [
    "dataframe_quick_look(df, nrows=2)"
   ]
  },
  {
   "cell_type": "code",
   "execution_count": 8,
   "metadata": {},
   "outputs": [
    {
     "name": "stdout",
     "output_type": "stream",
     "text": [
      "TOPICS:\n",
      "economy      33928\n",
      "obama        28610\n",
      "microsoft    21858\n",
      "palestine     8843\n",
      "Name: Topic, dtype: int64\n",
      "\n"
     ]
    }
   ],
   "source": [
    "# data set came with prespecified topics\n",
    "# print the topics out with counts\n",
    "\n",
    "print(\"TOPICS:\\n{topics}\\n\".format(topics=df[\"Topic\"].value_counts()))"
   ]
  },
  {
   "cell_type": "code",
   "execution_count": 9,
   "metadata": {},
   "outputs": [
    {
     "name": "stdout",
     "output_type": "stream",
     "text": [
      "HEADLINES:\n",
      "['Obama Lays Wreath at Arlington National Cemetery. President Barack Obama has laid a wreath at the Tomb of the Unknowns to honor', 'Tim Haywood, investment director business-unit head for fixed income at Gam, discusses the China beige book and the state of the economy.', \"Nouriel Roubini, NYU professor and chairman at Roubini Global Economics, explains why the global economy isn't facing the same conditions\", \"Finland's economy expanded marginally in the three months ended December, after contracting in the previous quarter, preliminary figures from Statistics Finland showed Monday. \", 'Tourism and public spending continued to boost the economy in January, in light of contraction in private consumption and exports, according to the Bank of Thailand data. ']\n",
      "\n",
      "LENGTH:\n",
      "93239\n",
      "\n"
     ]
    }
   ],
   "source": [
    "# lets look at the final data we are going to move forward with\n",
    "\n",
    "raw = df[\"Headline\"].tolist()\n",
    "print(\"HEADLINES:\\n{lines}\\n\".format(lines=raw[:5]))\n",
    "print(\"LENGTH:\\n{length}\\n\".format(length=len(raw)))"
   ]
  },
  {
   "cell_type": "markdown",
   "metadata": {},
   "source": [
    "#### Exercise 7.03: Step-by-step Data Cleaning"
   ]
  },
  {
   "cell_type": "code",
   "execution_count": 10,
   "metadata": {},
   "outputs": [
    {
     "name": "stdout",
     "output_type": "stream",
     "text": [
      "Over 100 attendees expected to see latest version of Microsoft Dynamics SL and Dynamics GP (PRWeb February 29, 2016) Read the full story at http://www.prweb.com/releases/2016/03/prweb13238571.htm \n"
     ]
    }
   ],
   "source": [
    "# select one headline to use as an example\n",
    "\n",
    "example = raw[5]\n",
    "print(example)"
   ]
  },
  {
   "cell_type": "code",
   "execution_count": 11,
   "metadata": {},
   "outputs": [],
   "source": [
    "# check language of headline\n",
    "# filter to english only\n",
    "\n",
    "def do_language_identifying(txt):\n",
    "    try: the_language = langdetect.detect(txt)\n",
    "    except: the_language = 'none'\n",
    "    return the_language"
   ]
  },
  {
   "cell_type": "code",
   "execution_count": 12,
   "metadata": {},
   "outputs": [
    {
     "name": "stdout",
     "output_type": "stream",
     "text": [
      "DETECTED LANGUAGE:\n",
      "en\n",
      "\n"
     ]
    }
   ],
   "source": [
    "print(\"DETECTED LANGUAGE:\\n{lang}\\n\".format(lang=do_language_identifying(example)))"
   ]
  },
  {
   "cell_type": "code",
   "execution_count": 13,
   "metadata": {},
   "outputs": [
    {
     "name": "stdout",
     "output_type": "stream",
     "text": [
      "['Over', '100', 'attendees', 'expected', 'to', 'see', 'latest', 'version', 'of', 'Microsoft', 'Dynamics', 'SL', 'and', 'Dynamics', 'GP', '(PRWeb', 'February', '29,', '2016)', 'Read', 'the', 'full', 'story', 'at', 'http://www.prweb.com/releases/2016/03/prweb13238571.htm', '']\n"
     ]
    }
   ],
   "source": [
    "# tokenize the data\n",
    "\n",
    "example = example.split(\" \")\n",
    "print(example)"
   ]
  },
  {
   "cell_type": "code",
   "execution_count": 14,
   "metadata": {},
   "outputs": [
    {
     "name": "stdout",
     "output_type": "stream",
     "text": [
      "['Over', '100', 'attendees', 'expected', 'to', 'see', 'latest', 'version', 'of', 'Microsoft', 'Dynamics', 'SL', 'and', 'Dynamics', 'GP', '(PRWeb', 'February', '29,', '2016)', 'Read', 'the', 'full', 'story', 'at', 'URL', '']\n"
     ]
    }
   ],
   "source": [
    "# find and replace website addresses\n",
    "\n",
    "example = [\n",
    "    'URL' if bool(regex.search(\"http[s]?://\", i)) \n",
    "    else i for i in example\n",
    "]\n",
    "print(example)"
   ]
  },
  {
   "cell_type": "code",
   "execution_count": 15,
   "metadata": {},
   "outputs": [
    {
     "name": "stdout",
     "output_type": "stream",
     "text": [
      "['Over', '100', 'attendees', 'expected', 'to', 'see', 'latest', 'version', 'of', 'Microsoft', 'Dynamics', 'SL', 'and', 'Dynamics', 'GP', 'PRWeb', 'February', '29', '2016', 'Read', 'the', 'full', 'story', 'at', 'URL', '']\n"
     ]
    }
   ],
   "source": [
    "# remove punctuation\n",
    "\n",
    "example = [regex.sub(\"[^\\\\w\\\\s]|\\n\", \"\", i) for i in example]\n",
    "print(example)"
   ]
  },
  {
   "cell_type": "code",
   "execution_count": 16,
   "metadata": {},
   "outputs": [
    {
     "name": "stdout",
     "output_type": "stream",
     "text": [
      "['Over', '', 'attendees', 'expected', 'to', 'see', 'latest', 'version', 'of', 'Microsoft', 'Dynamics', 'SL', 'and', 'Dynamics', 'GP', 'PRWeb', 'February', '', '', 'Read', 'the', 'full', 'story', 'at', 'URL', '']\n"
     ]
    }
   ],
   "source": [
    "# remove numbers\n",
    "\n",
    "example = [regex.sub(\"^[0-9]*$\", \"\", i) for i in example]\n",
    "print(example)"
   ]
  },
  {
   "cell_type": "code",
   "execution_count": 17,
   "metadata": {},
   "outputs": [
    {
     "name": "stdout",
     "output_type": "stream",
     "text": [
      "['over', '', 'attendees', 'expected', 'to', 'see', 'latest', 'version', 'of', 'microsoft', 'dynamics', 'sl', 'and', 'dynamics', 'gp', 'prweb', 'february', '', '', 'read', 'the', 'full', 'story', 'at', 'URL', '']\n"
     ]
    }
   ],
   "source": [
    "# make everything lowercase\n",
    "\n",
    "example = [i.lower() if i not in [\"URL\"] else i for i in example]\n",
    "print(example)"
   ]
  },
  {
   "cell_type": "code",
   "execution_count": 18,
   "metadata": {},
   "outputs": [
    {
     "name": "stdout",
     "output_type": "stream",
     "text": [
      "['over', 'attendees', 'expected', 'to', 'see', 'latest', 'version', 'of', 'microsoft', 'dynamics', 'sl', 'and', 'dynamics', 'gp', 'prweb', 'february', 'read', 'the', 'full', 'story', 'at']\n"
     ]
    }
   ],
   "source": [
    "# remove the url placeholder\n",
    "\n",
    "example = [i for i in example if i not in [\"URL\",\"\"]]\n",
    "print(example)"
   ]
  },
  {
   "cell_type": "code",
   "execution_count": 19,
   "metadata": {},
   "outputs": [
    {
     "name": "stdout",
     "output_type": "stream",
     "text": [
      "['i', 'me', 'my', 'myself', 'we', 'our', 'ours', 'ourselves', 'you', 'youre', 'youve', 'youll', 'youd', 'your', 'yours', 'yourself', 'yourselves', 'he', 'him', 'his', 'himself', 'she', 'shes', 'her', 'hers', 'herself', 'it', 'its', 'its', 'itself', 'they', 'them', 'their', 'theirs', 'themselves', 'what', 'which', 'who', 'whom', 'this', 'that', 'thatll', 'these', 'those', 'am', 'is', 'are', 'was', 'were', 'be', 'been', 'being', 'have', 'has', 'had', 'having', 'do', 'does', 'did', 'doing', 'a', 'an', 'the', 'and', 'but', 'if', 'or', 'because', 'as', 'until', 'while', 'of', 'at', 'by', 'for', 'with', 'about', 'against', 'between', 'into', 'through', 'during', 'before', 'after', 'above', 'below', 'to', 'from', 'up', 'down', 'in', 'out', 'on', 'off', 'over', 'under', 'again', 'further', 'then', 'once', 'here', 'there', 'when', 'where', 'why', 'how', 'all', 'any', 'both', 'each', 'few', 'more', 'most', 'other', 'some', 'such', 'no', 'nor', 'not', 'only', 'own', 'same', 'so', 'than', 'too', 'very', 's', 't', 'can', 'will', 'just', 'don', 'dont', 'should', 'shouldve', 'now', 'd', 'll', 'm', 'o', 're', 've', 'y', 'ain', 'aren', 'arent', 'couldn', 'couldnt', 'didn', 'didnt', 'doesn', 'doesnt', 'hadn', 'hadnt', 'hasn', 'hasnt', 'haven', 'havent', 'isn', 'isnt', 'ma', 'mightn', 'mightnt', 'mustn', 'mustnt', 'needn', 'neednt', 'shan', 'shant', 'shouldn', 'shouldnt', 'wasn', 'wasnt', 'weren', 'werent', 'won', 'wont', 'wouldn', 'wouldnt']\n"
     ]
    }
   ],
   "source": [
    "# remove stopwords\n",
    "# uses stopwords dictionary previously loaded\n",
    "\n",
    "list_stop_words = nltk.corpus.stopwords.words(\"English\")\n",
    "list_stop_words = [regex.sub(\"[^\\\\w\\\\s]\", \"\", i) for i in list_stop_words]\n",
    "print(list_stop_words)"
   ]
  },
  {
   "cell_type": "code",
   "execution_count": 20,
   "metadata": {},
   "outputs": [
    {
     "name": "stdout",
     "output_type": "stream",
     "text": [
      "['attendees', 'expected', 'see', 'latest', 'version', 'microsoft', 'dynamics', 'sl', 'dynamics', 'gp', 'prweb', 'february', 'read', 'full', 'story']\n"
     ]
    }
   ],
   "source": [
    "example = [i for i in example if i not in list_stop_words]\n",
    "print(example)"
   ]
  },
  {
   "cell_type": "code",
   "execution_count": 21,
   "metadata": {},
   "outputs": [],
   "source": [
    "# perform lemmatization\n",
    "# uses wordnet dictionary previously loaded\n",
    "\n",
    "def do_lemmatizing(wrd):\n",
    "    out = nltk.corpus.wordnet.morphy(wrd)\n",
    "    return (wrd if out is None else out)"
   ]
  },
  {
   "cell_type": "code",
   "execution_count": 22,
   "metadata": {},
   "outputs": [
    {
     "name": "stdout",
     "output_type": "stream",
     "text": [
      "['attendee', 'expect', 'see', 'latest', 'version', 'microsoft', 'dynamics', 'sl', 'dynamics', 'gp', 'prweb', 'february', 'read', 'full', 'story']\n"
     ]
    }
   ],
   "source": [
    "example = [do_lemmatizing(i) for i in example]\n",
    "print(example)"
   ]
  },
  {
   "cell_type": "code",
   "execution_count": 23,
   "metadata": {},
   "outputs": [
    {
     "name": "stdout",
     "output_type": "stream",
     "text": [
      "['attendee', 'expect', 'latest', 'version', 'microsoft', 'dynamics', 'dynamics', 'prweb', 'february', 'story']\n"
     ]
    }
   ],
   "source": [
    "# remove words less than 5 characters long\n",
    "\n",
    "example = [i for i in example if len(i) >= 5]\n",
    "print(example)"
   ]
  },
  {
   "cell_type": "markdown",
   "metadata": {},
   "source": [
    "#### Exercise 7.04: Complete Data Cleaning"
   ]
  },
  {
   "cell_type": "code",
   "execution_count": 24,
   "metadata": {},
   "outputs": [],
   "source": [
    "# define consolidated data cleaning function\n",
    "\n",
    "def do_headline_cleaning(txt):\n",
    "    # identify language of tweet\n",
    "    # return null if language not english\n",
    "    lg = do_language_identifying(txt)\n",
    "    if lg != 'en':\n",
    "        return None\n",
    "    \n",
    "    # split the string on whitespace\n",
    "    out = txt.split(\" \")\n",
    "    \n",
    "    # identify urls\n",
    "    # replace with URL\n",
    "    out = ['URL' if bool(regex.search(\"http[s]?://\", i)) else i for i in out]\n",
    "    \n",
    "    # remove all punctuation\n",
    "    out = [regex.sub(\"[^\\\\w\\\\s]|\\n\", \"\", i) for i in out]\n",
    "    \n",
    "    # remove all numerics\n",
    "    out = [regex.sub(\"^[0-9]*$\", \"\", i) for i in out]\n",
    "    \n",
    "    # make all non-keywords lowercase\n",
    "    out = [i.lower() if i not in [\"URL\"] else i for i in out]\n",
    "    \n",
    "    # remove URL\n",
    "    out = [i for i in out if i not in [\"URL\",\"\"]]\n",
    "    \n",
    "    # remove stopwords\n",
    "    list_stop_words = nltk.corpus.stopwords.words(\"english\")\n",
    "    list_stop_words = [regex.sub(\"[^\\\\w\\\\s]\", \"\", i) for i in list_stop_words]\n",
    "    \n",
    "    out = [i for i in out if i not in list_stop_words]\n",
    "    \n",
    "    # lemmatizing\n",
    "    out = [do_lemmatizing(i) for i in out]\n",
    "    \n",
    "    # keep words 5 or more characters long\n",
    "    out = [i for i in out if len(i) >= 5]\n",
    "    \n",
    "    return out\n",
    "\n",
    "from time import time"
   ]
  },
  {
   "cell_type": "code",
   "execution_count": 25,
   "metadata": {},
   "outputs": [
    {
     "name": "stdout",
     "output_type": "stream",
     "text": [
      "681.1741757392883\n"
     ]
    }
   ],
   "source": [
    "# execute function\n",
    "# takes several minutes\n",
    "tick = time()\n",
    "clean = list(map(do_headline_cleaning, raw))\n",
    "print(time()-tick)"
   ]
  },
  {
   "cell_type": "code",
   "execution_count": 26,
   "metadata": {},
   "outputs": [
    {
     "name": "stdout",
     "output_type": "stream",
     "text": [
      "HEADLINES:\n",
      "[['obama', 'wreath', 'arlington', 'national', 'cemetery', 'president', 'barack', 'obama', 'wreath', 'unknown', 'honor'], ['haywood', 'investment', 'director', 'businessunit', 'income', 'discus', 'china', 'beige', 'state', 'economy'], ['nouriel', 'roubini', 'professor', 'chairman', 'roubini', 'global', 'economics', 'explain', 'global', 'economy', 'facing', 'conditions'], ['finland', 'economy', 'expand', 'marginally', 'three', 'month', 'december', 'contracting', 'previous', 'quarter', 'preliminary', 'figure', 'statistics', 'finland', 'monday'], ['tourism', 'public', 'spending', 'continue', 'boost', 'economy', 'january', 'light', 'contraction', 'private', 'consumption', 'export', 'accord', 'thailand']]\n",
      "\n",
      "LENGTH:\n",
      "92946\n",
      "\n"
     ]
    }
   ],
   "source": [
    "# remove none types\n",
    "\n",
    "clean = list(filter(None.__ne__, clean))\n",
    "print(\"HEADLINES:\\n{lines}\\n\".format(lines=clean[:5]))\n",
    "print(\"LENGTH:\\n{length}\\n\".format(length=len(clean)))"
   ]
  },
  {
   "cell_type": "code",
   "execution_count": 27,
   "metadata": {},
   "outputs": [],
   "source": [
    "# turn tokens back into string\n",
    "# concatenate with white spaces\n",
    "\n",
    "clean_sentences = [\" \".join(i) for i in clean]"
   ]
  },
  {
   "cell_type": "code",
   "execution_count": 28,
   "metadata": {},
   "outputs": [
    {
     "name": "stdout",
     "output_type": "stream",
     "text": [
      "['obama wreath arlington national cemetery president barack obama wreath unknown honor', 'haywood investment director businessunit income discus china beige state economy', 'nouriel roubini professor chairman roubini global economics explain global economy facing conditions', 'finland economy expand marginally three month december contracting previous quarter preliminary figure statistics finland monday', 'tourism public spending continue boost economy january light contraction private consumption export accord thailand', 'attendee expect latest version microsoft dynamics dynamics prweb february story', 'ramallah february palestine liberation organization sectretarygeneral erekat thursday express concern kenyan president uhuru kenyattas visit jerusalem jordan valley', 'first michelle obama speak state white house washington wednesday interactive student workshop musical legacy charles student school community organization across country participate quotin performance white housequot series', 'hancock county early monday morning family years', 'delhi feb29 technology giant microsoft target rival apple series focusing windows gross windows machine']\n"
     ]
    }
   ],
   "source": [
    "print(clean_sentences[0:10])"
   ]
  },
  {
   "cell_type": "markdown",
   "metadata": {},
   "source": [
    "#### Exercise 7.05: Count Vectorizer"
   ]
  },
  {
   "cell_type": "code",
   "execution_count": 29,
   "metadata": {},
   "outputs": [],
   "source": [
    "# define some global variables\n",
    "\n",
    "number_words = 10\n",
    "number_docs = 10\n",
    "number_features = 1000"
   ]
  },
  {
   "cell_type": "code",
   "execution_count": 30,
   "metadata": {},
   "outputs": [
    {
     "name": "stdout",
     "output_type": "stream",
     "text": [
      "  (0, 408)\t1\n",
      "  (0, 88)\t1\n",
      "  (0, 644)\t1\n",
      "  (0, 558)\t1\n",
      "  (0, 573)\t2\n"
     ]
    }
   ],
   "source": [
    "# execute bag of words model\n",
    "# use raw term counts for lda \n",
    "# as it is a probabilistic graphical model\n",
    "\n",
    "vectorizer1 = sklearn.feature_extraction.text.CountVectorizer(\n",
    "    analyzer=\"word\",\n",
    "    max_df=0.5, \n",
    "    min_df=20, \n",
    "    max_features=number_features\n",
    ")\n",
    "clean_vec1 = vectorizer1.fit_transform(clean_sentences)\n",
    "print(clean_vec1[0])\n",
    "\n",
    "feature_names_vec1 = vectorizer1.get_feature_names()"
   ]
  },
  {
   "cell_type": "markdown",
   "metadata": {},
   "source": [
    "#### Exercise 7.06: Select Number of Topics"
   ]
  },
  {
   "cell_type": "code",
   "execution_count": 31,
   "metadata": {},
   "outputs": [],
   "source": [
    "# define function to calculate perplexity for LDA model trained on ntopics\n",
    "\n",
    "def perplexity_by_ntopic(data, ntopics):\n",
    "    output_dict = {\n",
    "        \"Number Of Topics\": [], \n",
    "        \"Perplexity Score\": []\n",
    "    }\n",
    "    \n",
    "    for t in ntopics:\n",
    "        lda = sklearn.decomposition.LatentDirichletAllocation(\n",
    "            n_components=t,\n",
    "            learning_method=\"online\",\n",
    "            random_state=0\n",
    "        )\n",
    "        lda.fit(data)\n",
    "        \n",
    "        output_dict[\"Number Of Topics\"].append(t)\n",
    "        output_dict[\"Perplexity Score\"].append(lda.perplexity(data))\n",
    "        \n",
    "    output_df = pandas.DataFrame(output_dict)\n",
    "    \n",
    "    index_min_perplexity = output_df[\"Perplexity Score\"].idxmin()\n",
    "    output_num_topics = output_df.loc[\n",
    "        index_min_perplexity,  # index\n",
    "        \"Number Of Topics\"  # column\n",
    "    ]\n",
    "        \n",
    "    return (output_df, output_num_topics)"
   ]
  },
  {
   "cell_type": "code",
   "execution_count": 32,
   "metadata": {},
   "outputs": [],
   "source": [
    "# find perplexity scores for several different numbers of topics\n",
    "# takes several minutes\n",
    "\n",
    "df_perplexity, optimal_num_topics = perplexity_by_ntopic(\n",
    "    clean_vec1, \n",
    "    ntopics=[1, 2, 3, 4, 6, 8, 10]\n",
    ")"
   ]
  },
  {
   "cell_type": "code",
   "execution_count": 33,
   "metadata": {},
   "outputs": [
    {
     "name": "stdout",
     "output_type": "stream",
     "text": [
      "   Number Of Topics  Perplexity Score\n",
      "0                 1        510.040098\n",
      "1                 2        457.833534\n",
      "2                 3        409.122014\n",
      "3                 4        433.104230\n",
      "4                 6        507.485482\n",
      "5                 8        560.085934\n",
      "6                10        577.715983\n"
     ]
    }
   ],
   "source": [
    "print(df_perplexity)"
   ]
  },
  {
   "cell_type": "code",
   "execution_count": 35,
   "metadata": {},
   "outputs": [
    {
     "data": {
      "image/png": "[encoded data removed]",
      "text/plain": [
       "<Figure size 432x288 with 1 Axes>"
      ]
     },
     "metadata": {
      "needs_background": "light"
     },
     "output_type": "display_data"
    }
   ],
   "source": [
    "df_perplexity.plot.line(\"Number Of Topics\", \"Perplexity Score\")"
   ]
  },
  {
   "cell_type": "markdown",
   "metadata": {},
   "source": [
    "#### Exercise 7.07: Latent Dirichlet Allocation"
   ]
  },
  {
   "cell_type": "code",
   "execution_count": 36,
   "metadata": {},
   "outputs": [
    {
     "data": {
      "text/plain": [
       "LatentDirichletAllocation(batch_size=128, doc_topic_prior=None,\n",
       "                          evaluate_every=-1, learning_decay=0.7,\n",
       "                          learning_method='online', learning_offset=10.0,\n",
       "                          max_doc_update_iter=100, max_iter=10,\n",
       "                          mean_change_tol=0.001, n_components=3, n_jobs=None,\n",
       "                          perp_tol=0.1, random_state=0, topic_word_prior=None,\n",
       "                          total_samples=1000000.0, verbose=0)"
      ]
     },
     "execution_count": 36,
     "metadata": {},
     "output_type": "execute_result"
    }
   ],
   "source": [
    "# define and fit LDA model\n",
    "\n",
    "lda = sklearn.decomposition.LatentDirichletAllocation(\n",
    "    n_components=optimal_num_topics,\n",
    "    learning_method=\"online\",\n",
    "    random_state=0\n",
    ")\n",
    "lda.fit(clean_vec1)"
   ]
  },
  {
   "cell_type": "code",
   "execution_count": 37,
   "metadata": {},
   "outputs": [
    {
     "name": "stdout",
     "output_type": "stream",
     "text": [
      "(92946, 3)\n",
      "[[0.04761958 0.90419577 0.04818465]\n",
      " [0.04258906 0.04751535 0.90989559]\n",
      " [0.16656181 0.04309434 0.79034385]\n",
      " ...\n",
      " [0.0399815  0.51492894 0.44508955]\n",
      " [0.06918206 0.86099065 0.06982729]\n",
      " [0.48210053 0.30502833 0.21287114]]\n"
     ]
    }
   ],
   "source": [
    "# output matrix\n",
    "# h: docs to topics\n",
    "\n",
    "lda_transform = lda.transform(clean_vec1)\n",
    "print(lda_transform.shape)\n",
    "print(lda_transform)"
   ]
  },
  {
   "cell_type": "code",
   "execution_count": 38,
   "metadata": {},
   "outputs": [
    {
     "name": "stdout",
     "output_type": "stream",
     "text": [
      "(3, 1000)\n",
      "[[3.35570079e-01 1.98879573e+02 9.82489014e+00 ... 3.35388004e-01\n",
      "  2.04173562e+02 4.03130268e-01]\n",
      " [2.74824227e+02 3.94662558e-01 3.63412044e-01 ... 3.45944379e-01\n",
      "  1.77517291e+02 4.61625408e+02]\n",
      " [3.37041234e-01 7.36749100e+01 2.05707096e+02 ... 2.31714093e+02\n",
      "  1.21765267e+02 7.71397922e-01]]\n"
     ]
    }
   ],
   "source": [
    "# output matrix\n",
    "# w: words to topics\n",
    "\n",
    "lda_components = lda.components_\n",
    "print(lda_components.shape)\n",
    "print(lda_components)"
   ]
  },
  {
   "cell_type": "code",
   "execution_count": 39,
   "metadata": {},
   "outputs": [],
   "source": [
    "# define function to reformat output matrices into easily readable tables\n",
    "\n",
    "def get_topics(mod, vec, names, docs, ndocs, nwords):\n",
    "    # word to topic matrix\n",
    "    W = mod.components_\n",
    "    W_norm = W / W.sum(axis=1)[:, numpy.newaxis]\n",
    "    # topic to document matrix\n",
    "    H = mod.transform(vec)\n",
    "    \n",
    "    W_dict = {}\n",
    "    H_dict = {}\n",
    "    \n",
    "    for tpc_idx, tpc_val in enumerate(W_norm):\n",
    "        topic = \"Topic{}\".format(tpc_idx)\n",
    "        \n",
    "        # formatting w\n",
    "        W_indices = tpc_val.argsort()[::-1][:nwords]\n",
    "        W_names_values = [\n",
    "            (round(tpc_val[j], 4), names[j]) \n",
    "            for j in W_indices\n",
    "        ]\n",
    "        W_dict[topic] = W_names_values\n",
    "        \n",
    "        # formatting h\n",
    "        H_indices = H[:, tpc_idx].argsort()[::-1][:ndocs]\n",
    "        H_names_values = [\n",
    "            (round(H[:, tpc_idx][j], 4), docs[j]) \n",
    "            for j in H_indices\n",
    "        ]\n",
    "        H_dict[topic] = H_names_values\n",
    "        \n",
    "    W_df = pandas.DataFrame(\n",
    "        W_dict, \n",
    "        index=[\"Word\" + str(i) for i in range(nwords)]\n",
    "    )\n",
    "    H_df = pandas.DataFrame(\n",
    "        H_dict,\n",
    "        index=[\"Doc\" + str(i) for i in range(ndocs)]\n",
    "    )\n",
    "        \n",
    "    return (W_df, H_df)"
   ]
  },
  {
   "cell_type": "code",
   "execution_count": 40,
   "metadata": {},
   "outputs": [],
   "source": [
    "# run function\n",
    "\n",
    "W_df, H_df = get_topics(\n",
    "    mod=lda,\n",
    "    vec=clean_vec1,\n",
    "    names=feature_names_vec1,\n",
    "    docs=raw,\n",
    "    ndocs=number_docs, \n",
    "    nwords=number_words\n",
    ")"
   ]
  },
  {
   "cell_type": "code",
   "execution_count": 41,
   "metadata": {},
   "outputs": [
    {
     "name": "stdout",
     "output_type": "stream",
     "text": [
      "                    Topic0                 Topic1                Topic2\n",
      "Word0  (0.1051, microsoft)        (0.0878, obama)     (0.0987, economy)\n",
      "Word1    (0.0241, windows)    (0.0761, president)    (0.0339, economic)\n",
      "Word2    (0.0235, company)       (0.0437, barack)      (0.0172, growth)\n",
      "Word3  (0.019, microsofts)    (0.0159, palestine)      (0.0146, global)\n",
      "Word4   (0.0161, announce)        (0.0143, state)  (0.0124, government)\n",
      "Word5      (0.0144, today)       (0.0137, obamas)       (0.0113, china)\n",
      "Word6    (0.0108, release)   (0.0131, washington)        (0.011, world)\n",
      "Word7      (0.009, update)  (0.0124, palestinian)     (0.0106, percent)\n",
      "Word8   (0.0088, business)        (0.0113, house)     (0.0097, country)\n",
      "Word9    (0.0076, surface)        (0.0104, white)      (0.0095, market)\n"
     ]
    }
   ],
   "source": [
    "# word-topic table\n",
    "\n",
    "print(W_df)"
   ]
  },
  {
   "cell_type": "code",
   "execution_count": 42,
   "metadata": {},
   "outputs": [
    {
     "name": "stdout",
     "output_type": "stream",
     "text": [
      "                                                 Topic0  \\\n",
      "Doc0  (0.9776, That appears to be the thinking behin...   \n",
      "Doc1  (0.9764, \"\"\"I think this will raise expectatio...   \n",
      "Doc2  (0.9756, France's fragile economy has cooled i...   \n",
      "Doc3  (0.9755, (Adds Obama, Kerry remarks, U.N. aid ...   \n",
      "Doc4  (0.9754, Economy Secretary Keith Brown is to t...   \n",
      "Doc5  (0.9754, Software maker Microsoft Corp (MSFT.O...   \n",
      "Doc6  (0.9752, This past month, Microsoft released a...   \n",
      "Doc7  (0.975, The Israeli army said troops shot dead...   \n",
      "Doc8  (0.9749, The president of the United States we...   \n",
      "Doc9  (0.9749, In a partnership that would have seem...   \n",
      "\n",
      "                                                 Topic1  \\\n",
      "Doc0  (0.9798,  Microsoft’s Lumia 950 and 950 XL hav...   \n",
      "Doc1  (0.9779, Microsoft is once again challenging U...   \n",
      "Doc2  (0.9779, After seeing Kinect fail to connect w...   \n",
      "Doc3  (0.9779, Microsoft on Thursday posted revenue ...   \n",
      "Doc4  (0.9779, Last quarter, Microsoft hit a major m...   \n",
      "Doc5  (0.9779, JERUSALEM: Sheikh Raed Salah, leader ...   \n",
      "Doc6  (0.9775, Washington (CNN) President Barack Oba...   \n",
      "Doc7  (0.9775, Kantor says South Africa's monetary p...   \n",
      "Doc8  (0.9773, Malia Obama is 17 and probably wants ...   \n",
      "Doc9  (0.9773, WASHINGTON - President Obama sounded ...   \n",
      "\n",
      "                                                 Topic2  \n",
      "Doc0  (0.9782, Microsoft CEO Satya Nadella discussed...  \n",
      "Doc1  (0.9782, Microsoft's latest Windows Phone, the...  \n",
      "Doc2  (0.978, Microsoft Nano Server is a new type of...  \n",
      "Doc3  (0.9779, Microsoft said Monday that it is buyi...  \n",
      "Doc4  (0.9779, Microsoft Corp announced 'Project Sco...  \n",
      "Doc5  (0.9779, The UK is facing a digital skills cri...  \n",
      "Doc6  (0.9778, Microsoft's CSEC will combine company...  \n",
      "Doc7  (0.9777, Microsoft's work in the blockchain sp...  \n",
      "Doc8  (0.9772, AUSTIN -- The South by Southwest conf...  \n",
      "Doc9  (0.9772, JOHANNESBURG \"\"\" Cabinet says the rec...  \n"
     ]
    }
   ],
   "source": [
    "# document-topic table\n",
    "\n",
    "print(H_df)"
   ]
  },
  {
   "cell_type": "markdown",
   "metadata": {},
   "source": [
    "#### Exercise 7.08: Visualizing LDA"
   ]
  },
  {
   "cell_type": "code",
   "execution_count": 43,
   "metadata": {},
   "outputs": [],
   "source": [
    "# iterative visualization\n",
    "# featuring pca biplot and histogram\n",
    "lda_plot = pyLDAvis.sklearn.prepare(lda, clean_vec1, vectorizer1, R=10)\n",
    "pyLDAvis.display(lda_plot)"
   ]
  },
  {
   "cell_type": "code",
   "execution_count": 44,
   "metadata": {},
   "outputs": [],
   "source": [
    "# define functiont to fit and plot t-SNE model\n",
    "\n",
    "def plot_tsne(data, threshold):\n",
    "    # filter data according to threshold\n",
    "    index_meet_threshold = numpy.amax(data, axis=1) >= threshold\n",
    "    lda_transform_filt = data[index_meet_threshold]\n",
    "    \n",
    "    # fit tsne model\n",
    "    # x-d -> 2-d, x = number of topics\n",
    "    tsne = sklearn.manifold.TSNE(\n",
    "        n_components=2, \n",
    "        verbose=0, \n",
    "        random_state=0, \n",
    "        angle=0.5, \n",
    "        init='pca'\n",
    "    )\n",
    "    tsne_fit = tsne.fit_transform(lda_transform_filt)\n",
    "    \n",
    "    # most probable topic for each headline\n",
    "    most_prob_topic = []\n",
    "    for i in range(tsne_fit.shape[0]):\n",
    "        most_prob_topic.append(lda_transform_filt[i].argmax())\n",
    "    \n",
    "    print(\"LENGTH:\\n{}\\n\".format(len(most_prob_topic)))\n",
    "\n",
    "    unique, counts = numpy.unique(\n",
    "        numpy.array(most_prob_topic), \n",
    "        return_counts=True\n",
    "    )\n",
    "\n",
    "    print(\"COUNTS:\\n{}\\n\".format(numpy.asarray((unique, counts)).T))\n",
    "    \n",
    "    # make plot\n",
    "    color_list = ['b', 'g', 'r', 'c', 'm', 'y', 'k']\n",
    "\n",
    "    for i in list(set(most_prob_topic)):\n",
    "        indices = [idx for idx, val in enumerate(most_prob_topic) if val == i]\n",
    "        matplotlib.pyplot.scatter(\n",
    "            x=tsne_fit[indices, 0], \n",
    "            y=tsne_fit[indices, 1], \n",
    "            s=0.5, \n",
    "            c=color_list[i], \n",
    "            label='Topic' + str(i),\n",
    "            alpha=0.25\n",
    "        )\n",
    "\n",
    "    matplotlib.pyplot.xlabel('x-tsne')\n",
    "    matplotlib.pyplot.ylabel('y-tsne')\n",
    "    matplotlib.pyplot.legend(markerscale=10)"
   ]
  },
  {
   "cell_type": "code",
   "execution_count": 45,
   "metadata": {},
   "outputs": [
    {
     "name": "stdout",
     "output_type": "stream",
     "text": [
      "LENGTH:\n",
      "58059\n",
      "\n",
      "COUNTS:\n",
      "[[    0 15103]\n",
      " [    1 23904]\n",
      " [    2 19052]]\n",
      "\n"
     ]
    },
    {
     "data": {
      "image/png": "[encoded data removed]",
      "text/plain": [
       "<Figure size 432x288 with 1 Axes>"
      ]
     },
     "metadata": {
      "needs_background": "light"
     },
     "output_type": "display_data"
    }
   ],
   "source": [
    "plot_tsne(data=lda_transform, threshold=0.75)"
   ]
  },
  {
   "cell_type": "markdown",
   "metadata": {},
   "source": [
    "#### Exercise 7.09: Trying 4 Topics"
   ]
  },
  {
   "cell_type": "code",
   "execution_count": 46,
   "metadata": {},
   "outputs": [
    {
     "data": {
      "text/plain": [
       "LatentDirichletAllocation(batch_size=128, doc_topic_prior=None,\n",
       "                          evaluate_every=-1, learning_decay=0.7,\n",
       "                          learning_method='online', learning_offset=10.0,\n",
       "                          max_doc_update_iter=100, max_iter=10,\n",
       "                          mean_change_tol=0.001, n_components=4, n_jobs=None,\n",
       "                          perp_tol=0.1, random_state=0, topic_word_prior=None,\n",
       "                          total_samples=1000000.0, verbose=0)"
      ]
     },
     "execution_count": 46,
     "metadata": {},
     "output_type": "execute_result"
    }
   ],
   "source": [
    "# rerun LDA model using number of topics equal to 4\n",
    "\n",
    "lda4 = sklearn.decomposition.LatentDirichletAllocation(\n",
    "    n_components=4,  # number of topics data suggests\n",
    "    learning_method=\"online\",\n",
    "    random_state=0\n",
    ")\n",
    "lda4.fit(clean_vec1)"
   ]
  },
  {
   "cell_type": "code",
   "execution_count": 47,
   "metadata": {},
   "outputs": [],
   "source": [
    "# run function to output raw matrices in nice table format\n",
    "\n",
    "W_df4, H_df4 = get_topics(\n",
    "    mod=lda4,\n",
    "    vec=clean_vec1,\n",
    "    names=feature_names_vec1,\n",
    "    docs=raw,\n",
    "    ndocs=number_docs, \n",
    "    nwords=number_words\n",
    ")"
   ]
  },
  {
   "cell_type": "code",
   "execution_count": 48,
   "metadata": {},
   "outputs": [
    {
     "name": "stdout",
     "output_type": "stream",
     "text": [
      "                   Topic0                 Topic1                Topic2  \\\n",
      "Word0   (0.0451, economy)        (0.0995, obama)     (0.1033, economy)   \n",
      "Word1  (0.0334, economic)    (0.0863, president)    (0.0234, economic)   \n",
      "Word2  (0.0233, minister)       (0.0496, barack)      (0.0233, growth)   \n",
      "Word3     (0.0184, could)     (0.018, palestine)       (0.0194, world)   \n",
      "Word4     (0.0165, would)       (0.0155, obamas)  (0.0168, government)   \n",
      "Word5  (0.0146, european)        (0.0148, state)       (0.0147, china)   \n",
      "Word6    (0.0141, global)   (0.0148, washington)     (0.0144, percent)   \n",
      "Word7    (0.013, clinton)  (0.0141, palestinian)       (0.0128, month)   \n",
      "Word8   (0.0113, britain)        (0.0128, house)     (0.0125, quarter)   \n",
      "Word9     (0.0112, prime)        (0.0118, white)      (0.0115, market)   \n",
      "\n",
      "                     Topic3  \n",
      "Word0    (0.122, microsoft)  \n",
      "Word1     (0.0279, windows)  \n",
      "Word2     (0.0273, company)  \n",
      "Word3  (0.0221, microsofts)  \n",
      "Word4    (0.0217, announce)  \n",
      "Word5       (0.0116, today)  \n",
      "Word6     (0.0116, release)  \n",
      "Word7      (0.0105, update)  \n",
      "Word8    (0.0091, business)  \n",
      "Word9     (0.0089, surface)  \n"
     ]
    }
   ],
   "source": [
    "# word-topic table\n",
    "\n",
    "print(W_df4)"
   ]
  },
  {
   "cell_type": "code",
   "execution_count": 49,
   "metadata": {},
   "outputs": [
    {
     "name": "stdout",
     "output_type": "stream",
     "text": [
      "                                                 Topic0  \\\n",
      "Doc0  (0.9496, Since 1977 our economy the guiding pr...   \n",
      "Doc1  (0.9494, Industrial production fell more than ...   \n",
      "Doc2  (0.9362, David Cameron today denied he was 'an...   \n",
      "Doc3  (0.9358, One of them is Microsoft, which has r...   \n",
      "Doc4  (0.9347, Following the United Kingdom's decisi...   \n",
      "Doc5  (0.9346, US President Barack Obama will on Tue...   \n",
      "Doc6  (0.9316, If you've been holding out to get the...   \n",
      "Doc7  (0.9307, (CNN) President Barack Obama is makin...   \n",
      "Doc8  (0.9305, WASHINGTON — President Obama expresse...   \n",
      "Doc9  (0.9299, BERLIN--Uncertainty following the U.K...   \n",
      "\n",
      "                                                 Topic1  \\\n",
      "Doc0  (0.9749, WASHINGTON - President Obama sounded ...   \n",
      "Doc1  (0.9747, WASHINGTON — President Barack Obama s...   \n",
      "Doc2  (0.9732, Palestinian Prime Minister Hamdallah ...   \n",
      "Doc3  (0.973, Lombardo and partner Sonny Ward have j...   \n",
      "Doc4  (0.973, Human intelligence bested by Google an...   \n",
      "Doc5  (0.973, Chinese Premier Li Keqiang pledged the...   \n",
      "Doc6  (0.972, (Los Angeles Times) Obama administrati...   \n",
      "Doc7  (0.9719, Yet another poll is out showing that ...   \n",
      "Doc8  (0.9714, Microsoft logo Microsoft (NASDAQ:MSFT...   \n",
      "Doc9  (0.9705, Barack Obama on Tuesday again urged C...   \n",
      "\n",
      "                                                 Topic2  \\\n",
      "Doc0  (0.9757, Microsoft's CSEC will combine company...   \n",
      "Doc1  (0.9749, AUSTIN -- The South by Southwest conf...   \n",
      "Doc2  (0.9748, India’s economy grew at 7.6% in the y...   \n",
      "Doc3  (0.9748, President Obama got taken behind the ...   \n",
      "Doc4  (0.9748, The US economy grew at an annual rate...   \n",
      "Doc5  (0.9748, The US economy grew at an annual rate...   \n",
      "Doc6  (0.9748, &quot;Colorado has such a dynamic eco...   \n",
      "Doc7  (0.9748, Welcome to Palestine Today, a service...   \n",
      "Doc8  (0.9748, Like the video, \"\"\"Boo Hoo Palestine,...   \n",
      "Doc9  (0.9739, The US economy grew at a 2% pace in t...   \n",
      "\n",
      "                                                 Topic3  \n",
      "Doc0  (0.9728, This past month, Microsoft released a...  \n",
      "Doc1  (0.9721, The 1010data Ecom Insights Panel Appl...  \n",
      "Doc2  (0.9721, Economist with the University of Ghan...  \n",
      "Doc3  (0.9721, In a partnership that would have seem...  \n",
      "Doc4  (0.9718, President Barack Obama congratulated ...  \n",
      "Doc5  (0.9714, Democrats are increasingly fearful th...  \n",
      "Doc6  (0.9711, BENGALURU: The global tech giant Micr...  \n",
      "Doc7  (0.9706, Republican Donald Trump will not be p...  \n",
      "Doc8  (0.9706, &quot;We have a lot of people trying ...  \n",
      "Doc9  (0.9702, Microsoft has agreed to transfer some...  \n"
     ]
    }
   ],
   "source": [
    "# document-topic table\n",
    "\n",
    "print(H_df4)"
   ]
  },
  {
   "cell_type": "code",
   "execution_count": 51,
   "metadata": {},
   "outputs": [
    {
     "data": {
      "text/html": [
       "\n",
       "<link rel=\"stylesheet\" type=\"text/css\" href=\"https://cdn.rawgit.com/bmabey/pyLDAvis/files/ldavis.v1.0.0.css\">\n",
       "\n",
       "\n",
       "<div id=\"ldavis_el232024212995690723938076561\"></div>\n",
       "<script type=\"text/javascript\">\n",
       "\n",
       "var ldavis_el232024212995690723938076561_data = {\"mdsDat\": {\"x\": [-0.10751559122138306, 0.15088066855919255, -0.29815957267503757, 0.25479449533722826], \"y\": [0.3314504429095356, -0.1274573010218576, -0.19322267244463517, -0.010770469443042755], \"topics\": [1, 2, 3, 4], \"cluster\": [1, 1, 1, 1], \"Freq\": [33.9384035004462, 26.003433393059154, 22.393734727128766, 17.664428379365877]}, \"tinfo\": {\"Term\": [\"microsoft\", \"obama\", \"president\", \"economy\", \"barack\", \"economic\", \"windows\", \"company\", \"growth\", \"microsofts\", \"obama\", \"president\", \"barack\", \"palestine\", \"obamas\", \"washington\", \"palestinian\", \"house\", \"white\", \"administration\", \"state\", \"growth\", \"government\", \"percent\", \"quarter\", \"expect\", \"billion\", \"three\", \"strong\", \"central\", \"expand\", \"china\", \"world\", \"economy\", \"month\", \"economic\", \"market\", \"microsoft\", \"windows\", \"company\", \"microsofts\", \"announce\", \"update\", \"surface\", \"software\", \"cloud\", \"technology\", \"release\", \"today\", \"business\", \"minister\", \"could\", \"european\", \"clinton\", \"prime\", \"still\", \"hillary\", \"trade\", \"despite\", \"leave\", \"britain\", \"major\", \"economic\", \"would\", \"economy\", \"global\"], \"Freq\": [21094.0, 26079.0, 22610.0, 26886.0, 12998.0, 9256.0, 4832.0, 4719.0, 4679.0, 3817.0, 26078.77353340756, 22609.970105371216, 12997.229713698383, 4716.384799111108, 4066.648901222813, 3879.4613218796785, 3689.3957542663525, 3351.7078883573313, 3089.8935850986954, 3016.872048692736, 3884.0614400594327, 4679.169632696499, 3376.492260197457, 2895.231255565226, 2510.9744602423734, 2192.9375319778296, 1633.177756578864, 1630.9488790315522, 1400.7240536501977, 1226.4084315119449, 1218.3914021722533, 2943.303889101822, 3903.9295024851194, 20739.83931114245, 2574.493034782306, 4705.556077854558, 2304.413939769314, 21093.73387232113, 4831.535873105035, 4719.203743334104, 3816.3025131648174, 3749.1353945513124, 1809.76636741411, 1534.4719974592851, 1489.5898487040558, 1469.470066250972, 1454.2440688563013, 2000.9218666771492, 2014.3784053334457, 1568.7676045482165, 3181.199942732266, 2505.185953866994, 1995.913787459091, 1772.310720255939, 1525.0746807299452, 1415.561201874913, 1315.6453651728514, 1282.703823529361, 1128.1552372476883, 1024.1039865486684, 1546.7166908702702, 1360.5355698107783, 4550.43464903889, 2246.5092410470165, 6146.389563472202, 1925.9206928707958], \"Total\": [21094.0, 26079.0, 22610.0, 26886.0, 12998.0, 9256.0, 4832.0, 4719.0, 4679.0, 3817.0, 26079.547695203837, 22610.745863506407, 12998.001508085741, 4717.167256256788, 4067.4245183146772, 3880.2567569868224, 3690.1729842789773, 3352.481420813301, 3090.666914998528, 3017.652341241429, 5349.911224701781, 4679.950993823482, 3377.288461894869, 2895.9926997944763, 2511.7318909539053, 2193.728854568674, 1634.0020949840143, 1631.8269880046373, 1401.5055351937042, 1227.184884619478, 1219.186153475745, 3088.283915718203, 4318.52689816708, 26886.733033063247, 3344.174712589576, 9256.494717696114, 3039.2685044245204, 21094.494103362973, 4832.291853660778, 4719.978734076305, 3817.0616738599474, 3749.9197340574033, 1810.5292217703134, 1535.2296598421826, 1490.349774316386, 1470.2308221695655, 1455.0114555692942, 2645.7414221415984, 2876.2823665644337, 3278.522530314491, 3181.96686658283, 2505.972252794894, 1996.68095526538, 1773.1032507369248, 1525.8447880467259, 1416.3594794697947, 1316.4356118988276, 1283.4879273990134, 1128.950178628162, 1024.9000340770228, 1549.5842671745193, 1361.9124888288238, 9256.494717696114, 3722.643906328011, 26886.733033063247, 3971.078486993897], \"Category\": [\"Default\", \"Default\", \"Default\", \"Default\", \"Default\", \"Default\", \"Default\", \"Default\", \"Default\", \"Default\", \"Topic1\", \"Topic1\", \"Topic1\", \"Topic1\", \"Topic1\", \"Topic1\", \"Topic1\", \"Topic1\", \"Topic1\", \"Topic1\", \"Topic1\", \"Topic2\", \"Topic2\", \"Topic2\", \"Topic2\", \"Topic2\", \"Topic2\", \"Topic2\", \"Topic2\", \"Topic2\", \"Topic2\", \"Topic2\", \"Topic2\", \"Topic2\", \"Topic2\", \"Topic2\", \"Topic2\", \"Topic3\", \"Topic3\", \"Topic3\", \"Topic3\", \"Topic3\", \"Topic3\", \"Topic3\", \"Topic3\", \"Topic3\", \"Topic3\", \"Topic3\", \"Topic3\", \"Topic3\", \"Topic4\", \"Topic4\", \"Topic4\", \"Topic4\", \"Topic4\", \"Topic4\", \"Topic4\", \"Topic4\", \"Topic4\", \"Topic4\", \"Topic4\", \"Topic4\", \"Topic4\", \"Topic4\", \"Topic4\", \"Topic4\"], \"logprob\": [10.0, 9.0, 8.0, 7.0, 6.0, 5.0, 4.0, 3.0, 2.0, 1.0, -2.3076, -2.4503, -3.004, -4.0177, -4.1659, -4.213, -4.2633, -4.3593, -4.4406, -4.4645, -4.2118, -3.7593, -4.0856, -4.2393, -4.3817, -4.5172, -4.8119, -4.8132, -4.9654, -5.0983, -5.1049, -4.2229, -3.9404, -2.2703, -4.3567, -3.7537, -4.4676, -2.104, -3.5778, -3.6013, -3.8137, -3.8314, -4.5598, -4.7248, -4.7545, -4.7681, -4.7785, -4.4593, -4.4526, -4.7027, -3.7585, -3.9974, -4.2246, -4.3434, -4.4937, -4.5682, -4.6414, -4.6668, -4.7951, -4.8919, -4.4796, -4.6078, -3.4005, -4.1063, -3.0999, -4.2603], \"loglift\": [10.0, 9.0, 8.0, 7.0, 6.0, 5.0, 4.0, 3.0, 2.0, 1.0, 1.0806, 1.0806, 1.0806, 1.0805, 1.0804, 1.0804, 1.0804, 1.0804, 1.0804, 1.0804, 0.7604, 1.3468, 1.3467, 1.3467, 1.3466, 1.3466, 1.3464, 1.3464, 1.3464, 1.3463, 1.3463, 1.2989, 1.246, 1.0874, 1.0854, 0.6704, 1.0702, 1.4964, 1.4962, 1.4962, 1.4962, 1.4962, 1.496, 1.4959, 1.4959, 1.4959, 1.4959, 1.217, 1.1402, 0.7593, 1.7334, 1.7333, 1.7332, 1.7332, 1.7331, 1.7331, 1.733, 1.733, 1.7329, 1.7328, 1.7318, 1.7326, 1.0235, 1.2286, 0.2578, 1.01]}, \"token.table\": {\"Topic\": [1, 3, 1, 2, 2, 4, 2, 3, 2, 2, 4, 4, 3, 3, 4, 4, 2, 4, 2, 4, 4, 2, 2, 2, 4, 2, 2, 4, 1, 4, 3, 4, 2, 3, 4, 3, 3, 4, 2, 3, 1, 1, 1, 1, 2, 1, 4, 2, 1, 2, 3, 3, 1, 2, 4, 4, 2, 3, 3, 2, 1, 3, 4, 4, 3, 1, 1, 3, 1, 2, 3, 1, 3, 4], \"Freq\": [0.9997838249182938, 0.9997547323349217, 0.9999229490714309, 0.999386723562295, 0.0012906687570123307, 0.9983322835490377, 0.5212713910604313, 0.4785692291245271, 0.9990344693498686, 0.9529564250946092, 0.0466278373134977, 0.9993777853960472, 0.9991628374599376, 0.9997926401512703, 0.9996120257142475, 0.9991583520281502, 0.508399793174764, 0.491546761356816, 0.7713841608980733, 0.22858857535581284, 0.999658956397824, 0.9990270940394431, 0.9996677553986876, 0.514973452853626, 0.48500678249197243, 0.999618492198873, 0.9997967940637119, 0.9996690974515653, 0.9998563986632969, 0.9991218323279368, 0.0007342615683478676, 0.9993299945214479, 0.7580771480525239, 0.11976566054302026, 0.12206884632269373, 0.9999765766668519, 0.9997218609625257, 0.9996961418445353, 0.7696966280828109, 0.22995210061992294, 0.9999789990528118, 0.9998956297006212, 0.999752551437467, 0.9996821329829321, 0.9996572160577109, 0.999967012874723, 0.9994463473261869, 0.9997086110358588, 0.0037796588571779206, 0.23963037154508016, 0.7563097373213019, 0.99976530723028, 0.7259933551918901, 0.14635756877323636, 0.12747875083441532, 0.9997461947513994, 0.9996392913327778, 0.9991990385058682, 0.9993048470062399, 0.9994932134284354, 0.12794293226487233, 0.7002094173409045, 0.1714018087135382, 0.9996198426268004, 0.9997076977471836, 0.9996761149930196, 0.9997842164759679, 0.9999396034698201, 0.0013893626557117407, 0.904011967983106, 0.09447666058839838, 0.27131254705375696, 0.1251798484426245, 0.6036032606235563], \"Term\": [\"administration\", \"announce\", \"barack\", \"billion\", \"britain\", \"britain\", \"business\", \"business\", \"central\", \"china\", \"china\", \"clinton\", \"cloud\", \"company\", \"could\", \"despite\", \"economic\", \"economic\", \"economy\", \"economy\", \"european\", \"expand\", \"expect\", \"global\", \"global\", \"government\", \"growth\", \"hillary\", \"house\", \"leave\", \"major\", \"major\", \"market\", \"market\", \"market\", \"microsoft\", \"microsofts\", \"minister\", \"month\", \"month\", \"obama\", \"obamas\", \"palestine\", \"palestinian\", \"percent\", \"president\", \"prime\", \"quarter\", \"release\", \"release\", \"release\", \"software\", \"state\", \"state\", \"state\", \"still\", \"strong\", \"surface\", \"technology\", \"three\", \"today\", \"today\", \"today\", \"trade\", \"update\", \"washington\", \"white\", \"windows\", \"world\", \"world\", \"world\", \"would\", \"would\", \"would\"]}, \"R\": 10, \"lambda.step\": 0.01, \"plot.opts\": {\"xlab\": \"PC1\", \"ylab\": \"PC2\"}, \"topic.order\": [2, 3, 4, 1]};\n",
       "\n",
       "function LDAvis_load_lib(url, callback){\n",
       "  var s = document.createElement('script');\n",
       "  s.src = url;\n",
       "  s.async = true;\n",
       "  s.onreadystatechange = s.onload = callback;\n",
       "  s.onerror = function(){console.warn(\"failed to load library \" + url);};\n",
       "  document.getElementsByTagName(\"head\")[0].appendChild(s);\n",
       "}\n",
       "\n",
       "if(typeof(LDAvis) !== \"undefined\"){\n",
       "   // already loaded: just create the visualization\n",
       "   !function(LDAvis){\n",
       "       new LDAvis(\"#\" + \"ldavis_el232024212995690723938076561\", ldavis_el232024212995690723938076561_data);\n",
       "   }(LDAvis);\n",
       "}else if(typeof define === \"function\" && define.amd){\n",
       "   // require.js is available: use it to load d3/LDAvis\n",
       "   require.config({paths: {d3: \"https://cdnjs.cloudflare.com/ajax/libs/d3/3.5.5/d3.min\"}});\n",
       "   require([\"d3\"], function(d3){\n",
       "      window.d3 = d3;\n",
       "      LDAvis_load_lib(\"https://cdn.rawgit.com/bmabey/pyLDAvis/files/ldavis.v1.0.0.js\", function(){\n",
       "        new LDAvis(\"#\" + \"ldavis_el232024212995690723938076561\", ldavis_el232024212995690723938076561_data);\n",
       "      });\n",
       "    });\n",
       "}else{\n",
       "    // require.js not available: dynamically load d3 & LDAvis\n",
       "    LDAvis_load_lib(\"https://cdnjs.cloudflare.com/ajax/libs/d3/3.5.5/d3.min.js\", function(){\n",
       "         LDAvis_load_lib(\"https://cdn.rawgit.com/bmabey/pyLDAvis/files/ldavis.v1.0.0.js\", function(){\n",
       "                 new LDAvis(\"#\" + \"ldavis_el232024212995690723938076561\", ldavis_el232024212995690723938076561_data);\n",
       "            })\n",
       "         });\n",
       "}\n",
       "</script>"
      ],
      "text/plain": [
       "<IPython.core.display.HTML object>"
      ]
     },
     "execution_count": 51,
     "metadata": {},
     "output_type": "execute_result"
    }
   ],
   "source": [
    "# iteractive visualization\n",
    "\n",
    "lda4_plot = pyLDAvis.sklearn.prepare(lda4, clean_vec1, vectorizer1, R=10)\n",
    "pyLDAvis.display(lda4_plot)"
   ]
  },
  {
   "cell_type": "markdown",
   "metadata": {},
   "source": [
    "#### Exercise 7.10: TF-IDF Vectorizer"
   ]
  },
  {
   "cell_type": "code",
   "execution_count": 52,
   "metadata": {},
   "outputs": [
    {
     "name": "stdout",
     "output_type": "stream",
     "text": [
      "  (0, 573)\t0.4507821468344468\n",
      "  (0, 558)\t0.46659328459850813\n",
      "  (0, 644)\t0.2348350665788214\n",
      "  (0, 88)\t0.2807186318482775\n",
      "  (0, 408)\t0.6671849099770276\n"
     ]
    }
   ],
   "source": [
    "# convert to bag of words model\n",
    "# use tf-idf method this time\n",
    "\n",
    "vectorizer2 = sklearn.feature_extraction.text.TfidfVectorizer(\n",
    "    analyzer=\"word\",\n",
    "    max_df=0.5, \n",
    "    min_df=20, \n",
    "    max_features=number_features,\n",
    "    smooth_idf=False\n",
    ")\n",
    "clean_vec2 = vectorizer2.fit_transform(clean_sentences)\n",
    "print(clean_vec2[0])"
   ]
  },
  {
   "cell_type": "code",
   "execution_count": 53,
   "metadata": {},
   "outputs": [
    {
     "data": {
      "text/plain": [
       "['abbas',\n",
       " 'ability',\n",
       " 'accelerate',\n",
       " 'accept',\n",
       " 'access',\n",
       " 'accord',\n",
       " 'account',\n",
       " 'accused',\n",
       " 'achieve',\n",
       " 'acknowledge',\n",
       " 'acquire',\n",
       " 'acquisition',\n",
       " 'across',\n",
       " 'action',\n",
       " 'activist',\n",
       " 'activity',\n",
       " 'actually',\n",
       " 'addition',\n",
       " 'address',\n",
       " 'administration',\n",
       " 'admit',\n",
       " 'advance',\n",
       " 'adviser',\n",
       " 'affairs',\n",
       " 'affect',\n",
       " 'africa',\n",
       " 'african',\n",
       " 'afternoon',\n",
       " 'agency',\n",
       " 'agenda',\n",
       " 'agree',\n",
       " 'agreement',\n",
       " 'ahead',\n",
       " 'alberta',\n",
       " 'allies',\n",
       " 'allow',\n",
       " 'almost',\n",
       " 'along',\n",
       " 'already',\n",
       " 'although',\n",
       " 'always',\n",
       " 'amazon',\n",
       " 'america',\n",
       " 'american',\n",
       " 'among',\n",
       " 'amount',\n",
       " 'analysis',\n",
       " 'analyst',\n",
       " 'android',\n",
       " 'anniversary',\n",
       " 'announce',\n",
       " 'announcement',\n",
       " 'annual',\n",
       " 'another',\n",
       " 'answer',\n",
       " 'antonin',\n",
       " 'appeal',\n",
       " 'appear',\n",
       " 'apple',\n",
       " 'application',\n",
       " 'approach',\n",
       " 'approve',\n",
       " 'april',\n",
       " 'arabia',\n",
       " 'argentina',\n",
       " 'argue',\n",
       " 'around',\n",
       " 'arrive',\n",
       " 'article',\n",
       " 'asian',\n",
       " 'assistant',\n",
       " 'associate',\n",
       " 'association',\n",
       " 'attack',\n",
       " 'attempt',\n",
       " 'attend',\n",
       " 'attention',\n",
       " 'augment',\n",
       " 'australia',\n",
       " 'australian',\n",
       " 'author',\n",
       " 'authorities',\n",
       " 'authority',\n",
       " 'available',\n",
       " 'average',\n",
       " 'award',\n",
       " 'azure',\n",
       " 'banks',\n",
       " 'barack',\n",
       " 'battle',\n",
       " 'become',\n",
       " 'begin',\n",
       " 'beginning',\n",
       " 'behind',\n",
       " 'beijing',\n",
       " 'belief',\n",
       " 'believe',\n",
       " 'benefit',\n",
       " 'bernardino',\n",
       " 'bernie',\n",
       " 'better',\n",
       " 'billion',\n",
       " 'black',\n",
       " 'blame',\n",
       " 'block',\n",
       " 'bloomberg',\n",
       " 'board',\n",
       " 'boost',\n",
       " 'border',\n",
       " 'brand',\n",
       " 'brazil',\n",
       " 'break',\n",
       " 'brexit',\n",
       " 'bring',\n",
       " 'bringing',\n",
       " 'britain',\n",
       " 'british',\n",
       " 'broad',\n",
       " 'browser',\n",
       " 'brussels',\n",
       " 'budget',\n",
       " 'build',\n",
       " 'building',\n",
       " 'bureau',\n",
       " 'business',\n",
       " 'california',\n",
       " 'calling',\n",
       " 'campaign',\n",
       " 'canada',\n",
       " 'canadian',\n",
       " 'candidate',\n",
       " 'capital',\n",
       " 'carry',\n",
       " 'cause',\n",
       " 'celebrate',\n",
       " 'center',\n",
       " 'central',\n",
       " 'centre',\n",
       " 'century',\n",
       " 'ceremony',\n",
       " 'chair',\n",
       " 'chairman',\n",
       " 'challenge',\n",
       " 'chance',\n",
       " 'change',\n",
       " 'charge',\n",
       " 'check',\n",
       " 'chicago',\n",
       " 'chief',\n",
       " 'child',\n",
       " 'china',\n",
       " 'chinese',\n",
       " 'choice',\n",
       " 'choose',\n",
       " 'chris',\n",
       " 'christmas',\n",
       " 'citizen',\n",
       " 'civil',\n",
       " 'claim',\n",
       " 'class',\n",
       " 'clear',\n",
       " 'climate',\n",
       " 'clinton',\n",
       " 'close',\n",
       " 'cloud',\n",
       " 'collapse',\n",
       " 'college',\n",
       " 'combat',\n",
       " 'coming',\n",
       " 'comment',\n",
       " 'commerce',\n",
       " 'commission',\n",
       " 'commitment',\n",
       " 'committee',\n",
       " 'commodity',\n",
       " 'community',\n",
       " 'company',\n",
       " 'compare',\n",
       " 'complete',\n",
       " 'computer',\n",
       " 'computing',\n",
       " 'concern',\n",
       " 'conditions',\n",
       " 'conference',\n",
       " 'confidence',\n",
       " 'confirm',\n",
       " 'conflict',\n",
       " 'congress',\n",
       " 'connect',\n",
       " 'conservative',\n",
       " 'consider',\n",
       " 'console',\n",
       " 'construction',\n",
       " 'consumer',\n",
       " 'consumption',\n",
       " 'content',\n",
       " 'continue',\n",
       " 'contract',\n",
       " 'contribute',\n",
       " 'control',\n",
       " 'cooperation',\n",
       " 'corporate',\n",
       " 'corporation',\n",
       " 'cortana',\n",
       " 'could',\n",
       " 'council',\n",
       " 'country',\n",
       " 'county',\n",
       " 'couple',\n",
       " 'course',\n",
       " 'court',\n",
       " 'cover',\n",
       " 'create',\n",
       " 'credit',\n",
       " 'crisis',\n",
       " 'critical',\n",
       " 'criticism',\n",
       " 'criticize',\n",
       " 'cuban',\n",
       " 'currency',\n",
       " 'current',\n",
       " 'currently',\n",
       " 'customer',\n",
       " 'daily',\n",
       " 'damage',\n",
       " 'daughter',\n",
       " 'david',\n",
       " 'death',\n",
       " 'debate',\n",
       " 'decade',\n",
       " 'december',\n",
       " 'decide',\n",
       " 'decision',\n",
       " 'declare',\n",
       " 'decline',\n",
       " 'defend',\n",
       " 'defense',\n",
       " 'delhi',\n",
       " 'deliver',\n",
       " 'demand',\n",
       " 'democrat',\n",
       " 'democratic',\n",
       " 'department',\n",
       " 'deputy',\n",
       " 'describe',\n",
       " 'design',\n",
       " 'despite',\n",
       " 'details',\n",
       " 'develop',\n",
       " 'developer',\n",
       " 'developing',\n",
       " 'development',\n",
       " 'device',\n",
       " 'devices',\n",
       " 'different',\n",
       " 'difficult',\n",
       " 'digital',\n",
       " 'dinner',\n",
       " 'direct',\n",
       " 'directly',\n",
       " 'director',\n",
       " 'discus',\n",
       " 'discuss',\n",
       " 'discussion',\n",
       " 'display',\n",
       " 'district',\n",
       " 'document',\n",
       " 'dollar',\n",
       " 'domestic',\n",
       " 'donald',\n",
       " 'download',\n",
       " 'downturn',\n",
       " 'drive',\n",
       " 'driver',\n",
       " 'dynamics',\n",
       " 'earlier',\n",
       " 'early',\n",
       " 'earnings',\n",
       " 'economic',\n",
       " 'economist',\n",
       " 'economy',\n",
       " 'economyquot',\n",
       " 'edition',\n",
       " 'education',\n",
       " 'effect',\n",
       " 'effort',\n",
       " 'eight',\n",
       " 'elect',\n",
       " 'election',\n",
       " 'email',\n",
       " 'emerge',\n",
       " 'employee',\n",
       " 'employment',\n",
       " 'enable',\n",
       " 'encourage',\n",
       " 'endorse',\n",
       " 'energy',\n",
       " 'engine',\n",
       " 'england',\n",
       " 'enough',\n",
       " 'ensure',\n",
       " 'enter',\n",
       " 'enterprise',\n",
       " 'environment',\n",
       " 'especially',\n",
       " 'estimate',\n",
       " 'europe',\n",
       " 'european',\n",
       " 'eurozone',\n",
       " 'event',\n",
       " 'every',\n",
       " 'everything',\n",
       " 'evidence',\n",
       " 'exchange',\n",
       " 'executive',\n",
       " 'exist',\n",
       " 'expand',\n",
       " 'expansion',\n",
       " 'expect',\n",
       " 'expectation',\n",
       " 'experience',\n",
       " 'expert',\n",
       " 'explain',\n",
       " 'explorer',\n",
       " 'export',\n",
       " 'express',\n",
       " 'extend',\n",
       " 'external',\n",
       " 'facebook',\n",
       " 'facing',\n",
       " 'factor',\n",
       " 'family',\n",
       " 'feature',\n",
       " 'february',\n",
       " 'federal',\n",
       " 'fight',\n",
       " 'figure',\n",
       " 'final',\n",
       " 'finally',\n",
       " 'finance',\n",
       " 'financial',\n",
       " 'first',\n",
       " 'fiscal',\n",
       " 'florida',\n",
       " 'focus',\n",
       " 'follow',\n",
       " 'following',\n",
       " 'force',\n",
       " 'forecast',\n",
       " 'foreign',\n",
       " 'former',\n",
       " 'forum',\n",
       " 'forward',\n",
       " 'found',\n",
       " 'foundation',\n",
       " 'fourth',\n",
       " 'france',\n",
       " 'francisco',\n",
       " 'freedom',\n",
       " 'french',\n",
       " 'fresh',\n",
       " 'friday',\n",
       " 'friend',\n",
       " 'front',\n",
       " 'funding',\n",
       " 'future',\n",
       " 'gaming',\n",
       " 'garland',\n",
       " 'gather',\n",
       " 'general',\n",
       " 'generate',\n",
       " 'generation',\n",
       " 'george',\n",
       " 'german',\n",
       " 'germany',\n",
       " 'getting',\n",
       " 'giant',\n",
       " 'given',\n",
       " 'giving',\n",
       " 'global',\n",
       " 'going',\n",
       " 'google',\n",
       " 'government',\n",
       " 'governor',\n",
       " 'grant',\n",
       " 'great',\n",
       " 'greater',\n",
       " 'gross',\n",
       " 'ground',\n",
       " 'group',\n",
       " 'growing',\n",
       " 'growth',\n",
       " 'hands',\n",
       " 'happen',\n",
       " 'hardware',\n",
       " 'havana',\n",
       " 'headset',\n",
       " 'health',\n",
       " 'helping',\n",
       " 'higher',\n",
       " 'highlight',\n",
       " 'hillary',\n",
       " 'hiroshima',\n",
       " 'historic',\n",
       " 'history',\n",
       " 'holding',\n",
       " 'holiday',\n",
       " 'hololens',\n",
       " 'honor',\n",
       " 'hours',\n",
       " 'house',\n",
       " 'however',\n",
       " 'human',\n",
       " 'hundred',\n",
       " 'identify',\n",
       " 'image',\n",
       " 'immigration',\n",
       " 'impact',\n",
       " 'important',\n",
       " 'improve',\n",
       " 'improvement',\n",
       " 'include',\n",
       " 'income',\n",
       " 'increase',\n",
       " 'increasingly',\n",
       " 'independent',\n",
       " 'index',\n",
       " 'india',\n",
       " 'indian',\n",
       " 'indicate',\n",
       " 'indicator',\n",
       " 'indonesia',\n",
       " 'industrial',\n",
       " 'industry',\n",
       " 'inflation',\n",
       " 'information',\n",
       " 'infrastructure',\n",
       " 'initiative',\n",
       " 'innovation',\n",
       " 'inside',\n",
       " 'insider',\n",
       " 'instead',\n",
       " 'institute',\n",
       " 'intelligence',\n",
       " 'interest',\n",
       " 'international',\n",
       " 'internet',\n",
       " 'interview',\n",
       " 'introduce',\n",
       " 'investment',\n",
       " 'investor',\n",
       " 'involve',\n",
       " 'ireland',\n",
       " 'islamic',\n",
       " 'island',\n",
       " 'israel',\n",
       " 'israeli',\n",
       " 'issue',\n",
       " 'january',\n",
       " 'japan',\n",
       " 'japanese',\n",
       " 'jerusalem',\n",
       " 'jewish',\n",
       " 'joint',\n",
       " 'journalist',\n",
       " 'judge',\n",
       " 'justice',\n",
       " 'justin',\n",
       " 'keeping',\n",
       " 'keyboard',\n",
       " 'kingdom',\n",
       " 'korea',\n",
       " 'kuala',\n",
       " 'labor',\n",
       " 'labour',\n",
       " 'laptop',\n",
       " 'large',\n",
       " 'largely',\n",
       " 'later',\n",
       " 'latest',\n",
       " 'launch',\n",
       " 'lawmaker',\n",
       " 'leader',\n",
       " 'leaders',\n",
       " 'leadership',\n",
       " 'leading',\n",
       " 'learn',\n",
       " 'least',\n",
       " 'leave',\n",
       " 'leaving',\n",
       " 'legacy',\n",
       " 'legal',\n",
       " 'legislation',\n",
       " 'letter',\n",
       " 'level',\n",
       " 'liberation',\n",
       " 'likely',\n",
       " 'linkedin',\n",
       " 'linux',\n",
       " 'little',\n",
       " 'local',\n",
       " 'london',\n",
       " 'longer',\n",
       " 'looking',\n",
       " 'lower',\n",
       " 'lumia',\n",
       " 'lumpur',\n",
       " 'machine',\n",
       " 'mahmoud',\n",
       " 'maintain',\n",
       " 'major',\n",
       " 'majority',\n",
       " 'maker',\n",
       " 'making',\n",
       " 'malaysia',\n",
       " 'manage',\n",
       " 'management',\n",
       " 'manager',\n",
       " 'manufacturing',\n",
       " 'march',\n",
       " 'market',\n",
       " 'massive',\n",
       " 'matter',\n",
       " 'mayor',\n",
       " 'means',\n",
       " 'measure',\n",
       " 'medium',\n",
       " 'meeting',\n",
       " 'member',\n",
       " 'mention',\n",
       " 'message',\n",
       " 'michelle',\n",
       " 'michigan',\n",
       " 'microsoft',\n",
       " 'microsofts',\n",
       " 'middle',\n",
       " 'middot',\n",
       " 'might',\n",
       " 'military',\n",
       " 'million',\n",
       " 'minister',\n",
       " 'ministry',\n",
       " 'mobile',\n",
       " 'model',\n",
       " 'moment',\n",
       " 'momentum',\n",
       " 'monday',\n",
       " 'monetary',\n",
       " 'money',\n",
       " 'month',\n",
       " 'morning',\n",
       " 'moscow',\n",
       " 'mosque',\n",
       " 'movement',\n",
       " 'muslim',\n",
       " 'nadella',\n",
       " 'nasdaqmsft',\n",
       " 'nation',\n",
       " 'national',\n",
       " 'nearly',\n",
       " 'negative',\n",
       " 'network',\n",
       " 'never',\n",
       " 'nigeria',\n",
       " 'night',\n",
       " 'nominate',\n",
       " 'nomination',\n",
       " 'nominee',\n",
       " 'north',\n",
       " 'november',\n",
       " 'nuclear',\n",
       " 'number',\n",
       " 'numbers',\n",
       " 'obama',\n",
       " 'obamas',\n",
       " 'occupation',\n",
       " 'occupy',\n",
       " 'october',\n",
       " 'offer',\n",
       " 'offering',\n",
       " 'office',\n",
       " 'officer',\n",
       " 'official',\n",
       " 'officially',\n",
       " 'often',\n",
       " 'ongoing',\n",
       " 'online',\n",
       " 'opening',\n",
       " 'operate',\n",
       " 'opportunity',\n",
       " 'opposition',\n",
       " 'optimistic',\n",
       " 'option',\n",
       " 'order',\n",
       " 'organization',\n",
       " 'orlando',\n",
       " 'others',\n",
       " 'outlook',\n",
       " 'output',\n",
       " 'outside',\n",
       " 'overall',\n",
       " 'owner',\n",
       " 'palestine',\n",
       " 'palestinian',\n",
       " 'paris',\n",
       " 'parliament',\n",
       " 'particularly',\n",
       " 'partner',\n",
       " 'partnership',\n",
       " 'party',\n",
       " 'peace',\n",
       " 'people',\n",
       " 'percent',\n",
       " 'performance',\n",
       " 'period',\n",
       " 'person',\n",
       " 'personal',\n",
       " 'phone',\n",
       " 'photo',\n",
       " 'picture',\n",
       " 'place',\n",
       " 'planning',\n",
       " 'platform',\n",
       " 'player',\n",
       " 'pledge',\n",
       " 'plunge',\n",
       " 'point',\n",
       " 'police',\n",
       " 'policy',\n",
       " 'political',\n",
       " 'politics',\n",
       " 'popular',\n",
       " 'position',\n",
       " 'positive',\n",
       " 'possible',\n",
       " 'potential',\n",
       " 'power',\n",
       " 'powerful',\n",
       " 'praise',\n",
       " 'predict',\n",
       " 'premier',\n",
       " 'prepare',\n",
       " 'present',\n",
       " 'presidency',\n",
       " 'president',\n",
       " 'presidential',\n",
       " 'press',\n",
       " 'pressure',\n",
       " 'presumptive',\n",
       " 'pretty',\n",
       " 'prevent',\n",
       " 'preview',\n",
       " 'previous',\n",
       " 'previously',\n",
       " 'price',\n",
       " 'primary',\n",
       " 'prime',\n",
       " 'priority',\n",
       " 'prison',\n",
       " 'private',\n",
       " 'probably',\n",
       " 'problem',\n",
       " 'process',\n",
       " 'produce',\n",
       " 'product',\n",
       " 'production',\n",
       " 'productivity',\n",
       " 'professional',\n",
       " 'program',\n",
       " 'progress',\n",
       " 'project',\n",
       " 'promise',\n",
       " 'promote',\n",
       " 'proposal',\n",
       " 'propose',\n",
       " 'prospect',\n",
       " 'protect',\n",
       " 'protection',\n",
       " 'provide',\n",
       " 'provider',\n",
       " 'public',\n",
       " 'publish',\n",
       " 'purchase',\n",
       " 'pushing',\n",
       " 'putin',\n",
       " 'quarter',\n",
       " 'quarterly',\n",
       " 'question',\n",
       " 'quickly',\n",
       " 'quite',\n",
       " 'quota',\n",
       " 'quoti',\n",
       " 'quotthe',\n",
       " 'quotwe',\n",
       " 'raise',\n",
       " 'raising',\n",
       " 'rally',\n",
       " 'ramallah',\n",
       " 'range',\n",
       " 'rates',\n",
       " 'rather',\n",
       " 'rating',\n",
       " 'reach',\n",
       " 'ready',\n",
       " 'reality',\n",
       " 'really',\n",
       " 'reason',\n",
       " 'rebound',\n",
       " 'receive',\n",
       " 'recent',\n",
       " 'recently',\n",
       " 'recession',\n",
       " 'recognize',\n",
       " 'record',\n",
       " 'recover',\n",
       " 'recovery',\n",
       " 'redmond',\n",
       " 'reduce',\n",
       " 'referendum',\n",
       " 'reflect',\n",
       " 'reform',\n",
       " 'refugee',\n",
       " 'refuse',\n",
       " 'regard',\n",
       " 'region',\n",
       " 'regional',\n",
       " 'regulation',\n",
       " 'relate',\n",
       " 'relations',\n",
       " 'relationship',\n",
       " 'release',\n",
       " 'remain',\n",
       " 'remains',\n",
       " 'remark',\n",
       " 'remove',\n",
       " 'replace',\n",
       " 'report',\n",
       " 'reporter',\n",
       " 'represent',\n",
       " 'republican',\n",
       " 'request',\n",
       " 'require',\n",
       " 'research',\n",
       " 'researcher',\n",
       " 'reserve',\n",
       " 'resident',\n",
       " 'resolution',\n",
       " 'resource',\n",
       " 'respond',\n",
       " 'response',\n",
       " 'result',\n",
       " 'retail',\n",
       " 'return',\n",
       " 'reuters',\n",
       " 'reveal',\n",
       " 'revenue',\n",
       " 'review',\n",
       " 'revive',\n",
       " 'right',\n",
       " 'rising',\n",
       " 'rival',\n",
       " 'robust',\n",
       " 'round',\n",
       " 'running',\n",
       " 'russia',\n",
       " 'russian',\n",
       " 'sales',\n",
       " 'sanction',\n",
       " 'sander',\n",
       " 'saturday',\n",
       " 'satya',\n",
       " 'saudi',\n",
       " 'saying',\n",
       " 'scalia',\n",
       " 'schedule',\n",
       " 'school',\n",
       " 'science',\n",
       " 'search',\n",
       " 'season',\n",
       " 'second',\n",
       " 'secretary',\n",
       " 'sector',\n",
       " 'secure',\n",
       " 'security',\n",
       " 'seeking',\n",
       " 'select',\n",
       " 'senate',\n",
       " 'senator',\n",
       " 'senior',\n",
       " 'sense',\n",
       " 'sentence',\n",
       " 'september',\n",
       " 'series',\n",
       " 'serious',\n",
       " 'serve',\n",
       " 'server',\n",
       " 'service',\n",
       " 'services',\n",
       " 'session',\n",
       " 'seven',\n",
       " 'several',\n",
       " 'share',\n",
       " 'sharing',\n",
       " 'sharp',\n",
       " 'shift',\n",
       " 'shock',\n",
       " 'shooting',\n",
       " 'short',\n",
       " 'showing',\n",
       " 'shrink',\n",
       " 'signal',\n",
       " 'significant',\n",
       " 'similar',\n",
       " 'since',\n",
       " 'singapore',\n",
       " 'single',\n",
       " 'sitting',\n",
       " 'situation',\n",
       " 'skype',\n",
       " 'slightly',\n",
       " 'slowdown',\n",
       " 'slowing',\n",
       " 'sluggish',\n",
       " 'slump',\n",
       " 'small',\n",
       " 'smart',\n",
       " 'smartphone',\n",
       " 'socalled',\n",
       " 'social',\n",
       " 'society',\n",
       " 'software',\n",
       " 'solid',\n",
       " 'solidarity',\n",
       " 'solution',\n",
       " 'something',\n",
       " 'sound',\n",
       " 'source',\n",
       " 'south',\n",
       " 'southeast',\n",
       " 'space',\n",
       " 'speak',\n",
       " 'speaker',\n",
       " 'speaking',\n",
       " 'special',\n",
       " 'speech',\n",
       " 'spend',\n",
       " 'spending',\n",
       " 'spoke',\n",
       " 'spring',\n",
       " 'staff',\n",
       " 'stage',\n",
       " 'stand',\n",
       " 'standard',\n",
       " 'start',\n",
       " 'starting',\n",
       " 'startup',\n",
       " 'state',\n",
       " 'statement',\n",
       " 'statistics',\n",
       " 'steady',\n",
       " 'steps',\n",
       " 'still',\n",
       " 'stimulus',\n",
       " 'stock',\n",
       " 'stocks',\n",
       " 'storage',\n",
       " 'store',\n",
       " 'story',\n",
       " 'strategy',\n",
       " 'street',\n",
       " 'strength',\n",
       " 'strike',\n",
       " 'strong',\n",
       " 'struggle',\n",
       " 'student',\n",
       " 'studio',\n",
       " 'study',\n",
       " 'success',\n",
       " 'suffer',\n",
       " 'suggest',\n",
       " 'summer',\n",
       " 'summit',\n",
       " 'sunday',\n",
       " 'support',\n",
       " 'supporter',\n",
       " 'supreme',\n",
       " 'surface',\n",
       " 'surge',\n",
       " 'surprise',\n",
       " 'survey',\n",
       " 'syria',\n",
       " 'syrian',\n",
       " 'system',\n",
       " 'tablet',\n",
       " 'tackle',\n",
       " 'taking',\n",
       " 'talks',\n",
       " 'target',\n",
       " 'technology',\n",
       " 'terms',\n",
       " 'territory',\n",
       " 'terror',\n",
       " 'terrorism',\n",
       " 'terrorist',\n",
       " 'texas',\n",
       " 'thanks',\n",
       " 'thats',\n",
       " 'there',\n",
       " 'theyre',\n",
       " 'thing',\n",
       " 'things',\n",
       " 'think',\n",
       " 'third',\n",
       " 'though',\n",
       " 'thought',\n",
       " 'thousand',\n",
       " 'threat',\n",
       " 'threaten',\n",
       " 'three',\n",
       " 'throw',\n",
       " 'thursday',\n",
       " 'times',\n",
       " 'title',\n",
       " 'today',\n",
       " 'together',\n",
       " 'tokyo',\n",
       " 'total',\n",
       " 'tough',\n",
       " 'tourism',\n",
       " 'toward',\n",
       " 'towards',\n",
       " 'track',\n",
       " 'trade',\n",
       " 'trading',\n",
       " 'transgender',\n",
       " 'transition',\n",
       " 'travel',\n",
       " 'trend',\n",
       " 'trillion',\n",
       " 'trouble',\n",
       " 'trudeau',\n",
       " 'trump',\n",
       " 'tuesday',\n",
       " 'turkey',\n",
       " 'twitter',\n",
       " 'uncertainty',\n",
       " 'unemployment',\n",
       " 'union',\n",
       " 'unite',\n",
       " 'university',\n",
       " 'unveil',\n",
       " 'upcoming',\n",
       " 'update',\n",
       " 'upgrade',\n",
       " 'using',\n",
       " 'value',\n",
       " 'vehicle',\n",
       " 'version',\n",
       " 'victim',\n",
       " 'video',\n",
       " 'vietnam',\n",
       " 'violence',\n",
       " 'virtual',\n",
       " 'vision',\n",
       " 'visit',\n",
       " 'vladimir',\n",
       " 'voice',\n",
       " 'voter',\n",
       " 'warning',\n",
       " 'washington',\n",
       " 'watch',\n",
       " 'water',\n",
       " 'weakness',\n",
       " 'website',\n",
       " 'wednesday',\n",
       " 'weekend',\n",
       " 'weigh',\n",
       " 'welcome',\n",
       " 'whats',\n",
       " 'whether',\n",
       " 'white',\n",
       " 'whose',\n",
       " 'windows',\n",
       " 'within',\n",
       " 'without',\n",
       " 'woman',\n",
       " 'words',\n",
       " 'worker',\n",
       " 'working',\n",
       " 'works',\n",
       " 'world',\n",
       " 'worry',\n",
       " 'worst',\n",
       " 'worth',\n",
       " 'would',\n",
       " 'write',\n",
       " 'years',\n",
       " 'yellen',\n",
       " 'yesterday',\n",
       " 'young']"
      ]
     },
     "execution_count": 53,
     "metadata": {},
     "output_type": "execute_result"
    }
   ],
   "source": [
    "feature_names_vec2 = vectorizer2.get_feature_names()\n",
    "feature_names_vec2"
   ]
  },
  {
   "cell_type": "markdown",
   "metadata": {},
   "source": [
    "#### Exercise 7.11: Non-negative Matrix Factorization"
   ]
  },
  {
   "cell_type": "code",
   "execution_count": 54,
   "metadata": {},
   "outputs": [
    {
     "data": {
      "text/plain": [
       "NMF(alpha=0.1, beta_loss='frobenius', init='nndsvda', l1_ratio=0.5,\n",
       "    max_iter=200, n_components=4, random_state=0, shuffle=False, solver='mu',\n",
       "    tol=0.0001, verbose=0)"
      ]
     },
     "execution_count": 54,
     "metadata": {},
     "output_type": "execute_result"
    }
   ],
   "source": [
    "# define and fit nmf model\n",
    "\n",
    "nmf = sklearn.decomposition.NMF(\n",
    "    n_components=4,\n",
    "    init=\"nndsvda\",\n",
    "    solver=\"mu\",\n",
    "    beta_loss=\"frobenius\",\n",
    "    random_state=0, \n",
    "    alpha=0.1, \n",
    "    l1_ratio=0.5\n",
    ")\n",
    "nmf.fit(clean_vec2)"
   ]
  },
  {
   "cell_type": "code",
   "execution_count": 55,
   "metadata": {},
   "outputs": [],
   "source": [
    "# run function to produce nice output tables\n",
    "\n",
    "W_df, H_df = get_topics(\n",
    "    mod=nmf,\n",
    "    vec=clean_vec2,\n",
    "    names=feature_names_vec2,\n",
    "    docs=raw,\n",
    "    ndocs=number_docs, \n",
    "    nwords=number_words\n",
    ")"
   ]
  },
  {
   "cell_type": "code",
   "execution_count": 56,
   "metadata": {},
   "outputs": [
    {
     "name": "stdout",
     "output_type": "stream",
     "text": [
      "                         Topic0              Topic1                Topic2  \\\n",
      "Word0           (0.0696, obama)   (0.0628, economy)    (0.087, microsoft)   \n",
      "Word1       (0.0645, president)  (0.0212, economic)     (0.0305, windows)   \n",
      "Word2          (0.0484, barack)    (0.0179, growth)     (0.0196, company)   \n",
      "Word3      (0.0157, washington)    (0.0144, global)    (0.0162, announce)   \n",
      "Word4           (0.0149, house)     (0.0128, china)  (0.0124, microsofts)   \n",
      "Word5           (0.0144, white)   (0.0111, percent)      (0.0118, update)   \n",
      "Word6          (0.0127, obamas)     (0.0109, world)     (0.0106, release)   \n",
      "Word7           (0.0109, state)   (0.0097, quarter)         (0.01, today)   \n",
      "Word8  (0.0096, administration)    (0.0093, market)     (0.0096, surface)   \n",
      "Word9           (0.0081, first)   (0.0086, country)       (0.0085, cloud)   \n",
      "\n",
      "                        Topic3  \n",
      "Word0      (0.0881, palestine)  \n",
      "Word1    (0.0765, palestinian)  \n",
      "Word2        (0.0309, israeli)  \n",
      "Word3         (0.0279, israel)  \n",
      "Word4          (0.0171, state)  \n",
      "Word5  (0.0094, international)  \n",
      "Word6       (0.0092, ramallah)  \n",
      "Word7       (0.0089, minister)  \n",
      "Word8          (0.0079, unite)  \n",
      "Word9          (0.0078, force)  \n"
     ]
    }
   ],
   "source": [
    "# word-topic table\n",
    "\n",
    "print(W_df)"
   ]
  },
  {
   "cell_type": "code",
   "execution_count": 57,
   "metadata": {},
   "outputs": [
    {
     "name": "stdout",
     "output_type": "stream",
     "text": [
      "                                                 Topic0  \\\n",
      "Doc0  (0.0844, A makeshift racetrack in the Palestin...   \n",
      "Doc1  (0.0844, (CNN) -- President Barack Obama will ...   \n",
      "Doc2  (0.0844, America is emerging as a top tax have...   \n",
      "Doc3  (0.0844, Microsoft wants its software to run e...   \n",
      "Doc4  (0.0844, The process began in Obama's first ye...   \n",
      "Doc5  (0.0844, Negative Interest Rates Benefit Globa...   \n",
      "Doc6  (0.0844, South Africa's economy shrank sharply...   \n",
      "Doc7  (0.0844, Conservatives mock President Barack O...   \n",
      "Doc8  (0.0844, AFP ISTANBUL (AFP-Jiji) \"\"\" Six suici...   \n",
      "Doc9  (0.0844, Japanese officials have raided the he...   \n",
      "\n",
      "                                                 Topic1  \\\n",
      "Doc0  (0.0677, The super PAC backing New Jersey Gov....   \n",
      "Doc1  (0.0677, President Obama speaks about the Nati...   \n",
      "Doc2  (0.0677, Windows 10 is being offered by Micros...   \n",
      "Doc3  (0.0677, President Obama is a man of many tale...   \n",
      "Doc4  (0.0677, New Zealand's finance minister said o...   \n",
      "Doc5  (0.0677, Each year nearly $4 billion new dolla...   \n",
      "Doc6  (0.0677, Even those who disagree with Presiden...   \n",
      "Doc7  (0.0677, Central banks' ultra-loose monetary p...   \n",
      "Doc8  (0.0677, New Zealand's economy grew at a faste...   \n",
      "Doc9  (0.0677, Venezuela's economy contracted 4.5 pe...   \n",
      "\n",
      "                                                 Topic2  \\\n",
      "Doc0  (0.0836, But the argument that Microsoft is wi...   \n",
      "Doc1  (0.0836, Oil spills and other forms of polluti...   \n",
      "Doc2  (0.0836, President Obama promised he would run...   \n",
      "Doc3  (0.0836, President Obama will propose in his u...   \n",
      "Doc4  (0.0836, Join the Palestine Public Library at ...   \n",
      "Doc5  (0.0836, Colorado's economy had the fourth str...   \n",
      "Doc6  (0.0836, An international law firm has withdra...   \n",
      "Doc7  (0.0836, Certainly, we are all on the shoulder...   \n",
      "Doc8  (0.0836, (Photo : Getty Images) Seems like Red...   \n",
      "Doc9  (0.0836, Thousands March During Obama Argentin...   \n",
      "\n",
      "                                                 Topic3  \n",
      "Doc0  (0.1078, Full details of Barack Obama's histor...  \n",
      "Doc1  (0.1078, It's been half a year since we propos...  \n",
      "Doc2  (0.0857, (Reuters) \"\"\" On Monday, U.S. Distric...  \n",
      "Doc3  (0.0853, Yeah, it seemed radical at the time\"\"...  \n",
      "Doc4  (0.0842, U.S. President Barack Obama, left, an...  \n",
      "Doc5  (0.0828, Senate Majority Leader Mitch McConnel...  \n",
      "Doc6  (0.0815, American multinational technology com...  \n",
      "Doc7  (0.0815, Former Florida Gov. Jeb Bush (R) said...  \n",
      "Doc8  (0.0815, (Reuters) - Microsoft Corp executives...  \n",
      "Doc9  (0.0815, President Obama's crusade to bury the...  \n"
     ]
    }
   ],
   "source": [
    "# document-topic table\n",
    "\n",
    "print(H_df)"
   ]
  },
  {
   "cell_type": "markdown",
   "metadata": {},
   "source": [
    "#### Exercise 7.12: Visualizing NMF"
   ]
  },
  {
   "cell_type": "code",
   "execution_count": 58,
   "metadata": {},
   "outputs": [
    {
     "name": "stdout",
     "output_type": "stream",
     "text": [
      "(92946, 4)\n",
      "[[5.12653315e-02 3.60582233e-15 3.19729419e-34 8.17267206e-16]\n",
      " [7.43734737e-04 2.04138105e-02 6.85552731e-15 2.11679327e-03]\n",
      " [2.92397552e-15 1.94083984e-02 4.76691813e-21 1.24269313e-18]\n",
      " ...\n",
      " [9.83404082e-06 3.41225477e-03 6.14009658e-04 3.23919592e-02]\n",
      " [6.51294966e-07 1.32359509e-07 3.32509174e-08 6.14671536e-02]\n",
      " [4.53925928e-05 1.16401194e-04 1.84755839e-02 2.00616344e-03]]\n"
     ]
    }
   ],
   "source": [
    "# output raw document-topic matrix for t-SNE plot\n",
    "\n",
    "nmf_transform = nmf.transform(clean_vec2)\n",
    "print(nmf_transform.shape)\n",
    "print(nmf_transform)"
   ]
  },
  {
   "cell_type": "code",
   "execution_count": 59,
   "metadata": {},
   "outputs": [
    {
     "name": "stdout",
     "output_type": "stream",
     "text": [
      "LENGTH:\n",
      "92946\n",
      "\n",
      "COUNTS:\n",
      "[[    0 28973]\n",
      " [    1 32951]\n",
      " [    2 22148]\n",
      " [    3  8874]]\n",
      "\n"
     ]
    },
    {
     "data": {
      "image/png": "[encoded data removed]",
      "text/plain": [
       "<Figure size 432x288 with 1 Axes>"
      ]
     },
     "metadata": {
      "needs_background": "light"
     },
     "output_type": "display_data"
    }
   ],
   "source": [
    "# run function to produce t-SNE plot\n",
    "\n",
    "plot_tsne(data=nmf_transform, threshold=0)"
   ]
  }
 ],
 "metadata": {
  "kernelspec": {
   "display_name": "Python 3",
   "language": "python",
   "name": "python3"
  },
  "language_info": {
   "codemirror_mode": {
    "name": "ipython",
    "version": 3
   },
   "file_extension": ".py",
   "mimetype": "text/x-python",
   "name": "python",
   "nbconvert_exporter": "python",
   "pygments_lexer": "ipython3",
   "version": "3.6.8"
  }
 },
 "nbformat": 4,
 "nbformat_minor": 2
}
