{
 "cells": [
  {
   "cell_type": "markdown",
   "metadata": {},
   "source": [
    "# CH. 7 - TOPIC MODELS\n",
    "## Activities"
   ]
  },
  {
   "cell_type": "markdown",
   "metadata": {},
   "source": [
    "#### Activity 7.01"
   ]
  },
  {
   "cell_type": "code",
   "execution_count": 1,
   "metadata": {},
   "outputs": [],
   "source": [
    "# not necessary\n",
    "# added to suppress warnings coming from pyLDAvis\n",
    "\n",
    "import warnings\n",
    "warnings.filterwarnings('ignore')"
   ]
  },
  {
   "cell_type": "code",
   "execution_count": 2,
   "metadata": {},
   "outputs": [],
   "source": [
    "import langdetect  # language detection\n",
    "import matplotlib.pyplot  # plotting\n",
    "import nltk  # natural language processing\n",
    "import numpy  # arrays and matrices\n",
    "import pandas  # dataframes\n",
    "import pyLDAvis  # plotting\n",
    "import pyLDAvis.sklearn  # plotting\n",
    "import regex  # regular expressions\n",
    "import sklearn  # machine learning"
   ]
  },
  {
   "cell_type": "code",
   "execution_count": 3,
   "metadata": {},
   "outputs": [],
   "source": [
    "# define path\n",
    "\n",
    "path = 'latimeshealth.txt'"
   ]
  },
  {
   "cell_type": "code",
   "execution_count": 4,
   "metadata": {},
   "outputs": [],
   "source": [
    "# load data\n",
    "\n",
    "df = pandas.read_csv(path, sep=\"|\", header=None)\n",
    "df.columns = [\"id\", \"datetime\", \"tweettext\"]"
   ]
  },
  {
   "cell_type": "code",
   "execution_count": 5,
   "metadata": {},
   "outputs": [],
   "source": [
    "# define quick look function for data frame\n",
    "\n",
    "def dataframe_quick_look(df, nrows):\n",
    "    print(\"SHAPE:\\n{shape}\\n\".format(shape=df.shape))\n",
    "    print(\"COLUMN NAMES:\\n{names}\\n\".format(names=df.columns))\n",
    "    print(\"HEAD:\\n{head}\\n\".format(head=df.head(nrows)))"
   ]
  },
  {
   "cell_type": "code",
   "execution_count": 6,
   "metadata": {},
   "outputs": [
    {
     "name": "stdout",
     "output_type": "stream",
     "text": [
      "SHAPE:\n",
      "(4171, 3)\n",
      "\n",
      "COLUMN NAMES:\n",
      "Index(['id', 'datetime', 'tweettext'], dtype='object')\n",
      "\n",
      "HEAD:\n",
      "                   id                        datetime  \\\n",
      "0  576760256031682561  Sat Mar 14 15:02:15 +0000 2015   \n",
      "1  576715414811471872  Sat Mar 14 12:04:04 +0000 2015   \n",
      "\n",
      "                                           tweettext  \n",
      "0  Five new running shoes that aim to go the extr...  \n",
      "1  Gym Rat: Disq class at Crunch is intense worko...  \n",
      "\n"
     ]
    }
   ],
   "source": [
    "dataframe_quick_look(df, nrows=2)"
   ]
  },
  {
   "cell_type": "code",
   "execution_count": 7,
   "metadata": {},
   "outputs": [
    {
     "name": "stdout",
     "output_type": "stream",
     "text": [
      "HEADLINES:\n",
      "['Five new running shoes that aim to go the extra mile http://lat.ms/1ELp3wU', 'Gym Rat: Disq class at Crunch is intense workout on pulley system http://lat.ms/1EKOFdr', 'Noshing through thousands of ideas at Natural Products Expo West http://lat.ms/1EHqywg', 'Natural Products Expo also explores beauty, supplements and more http://lat.ms/1EHqyfE', 'Free Fitness Weekends in South Bay beach cities aim to spark activity http://lat.ms/1EH3SMC']\n",
      "\n",
      "LENGTH:\n",
      "4171\n",
      "\n"
     ]
    }
   ],
   "source": [
    "# view final data that will be carried forward\n",
    "\n",
    "raw = df['tweettext'].tolist()\n",
    "print(\"HEADLINES:\\n{lines}\\n\".format(lines=raw[:5]))\n",
    "print(\"LENGTH:\\n{length}\\n\".format(length=len(raw)))"
   ]
  },
  {
   "cell_type": "code",
   "execution_count": 8,
   "metadata": {},
   "outputs": [],
   "source": [
    "# define function for checking language of tweets\n",
    "# filter to english only\n",
    "\n",
    "def do_language_identifying(txt):\n",
    "    try:\n",
    "       the_language = langdetect.detect(txt)\n",
    "    except:\n",
    "       the_language = 'none'\n",
    "    return the_language"
   ]
  },
  {
   "cell_type": "code",
   "execution_count": 9,
   "metadata": {},
   "outputs": [],
   "source": [
    "# define function to perform lemmatization\n",
    "\n",
    "def do_lemmatizing(wrd):\n",
    "    out = nltk.corpus.wordnet.morphy(wrd)\n",
    "    return (wrd if out is None else out)"
   ]
  },
  {
   "cell_type": "code",
   "execution_count": 10,
   "metadata": {},
   "outputs": [],
   "source": [
    "# define function to cleaning tweet data\n",
    "\n",
    "def do_tweet_cleaning(txt):\n",
    "    # identify language of tweet\n",
    "    # return null if language not english\n",
    "    lg = do_language_identifying(txt)\n",
    "    if lg != 'en':\n",
    "        return None\n",
    "    \n",
    "    # split the string on whitespace\n",
    "    out = txt.split(' ')\n",
    "    \n",
    "    # identify screen names\n",
    "    # replace with SCREENNAME\n",
    "    out = ['SCREENNAME' if i.startswith('@') else i for i in out]\n",
    "    \n",
    "    # identify urls\n",
    "    # replace with URL\n",
    "    out = [\n",
    "        'URL' if bool(regex.search('http[s]?://', i)) \n",
    "        else i for i in out\n",
    "    ]\n",
    "    \n",
    "    # remove all punctuation\n",
    "    out = [regex.sub('[^\\\\w\\\\s]|\\n', '', i) for i in out]\n",
    "    \n",
    "    # make all non-keywords lowercase\n",
    "    keys = ['SCREENNAME', 'URL']\n",
    "    out = [i.lower() if i not in keys else i for i in out]\n",
    "    \n",
    "    # remove keywords\n",
    "    out = [i for i in out if i not in keys]\n",
    "    \n",
    "    # remove stopwords\n",
    "    list_stop_words = nltk.corpus.stopwords.words('english')\n",
    "    list_stop_words = [regex.sub('[^\\\\w\\\\s]', '', i) for i in list_stop_words]\n",
    "    \n",
    "    out = [i for i in out if i not in list_stop_words]\n",
    "    \n",
    "    # lemmatizing\n",
    "    out = [do_lemmatizing(i) for i in out]\n",
    "    \n",
    "    # keep words 4 or more characters long\n",
    "    out = [i for i in out if len(i) >= 5]\n",
    "    \n",
    "    return out"
   ]
  },
  {
   "cell_type": "code",
   "execution_count": 11,
   "metadata": {},
   "outputs": [],
   "source": [
    "# apply cleaning function to every tweet\n",
    "\n",
    "clean = list(map(do_tweet_cleaning, raw))"
   ]
  },
  {
   "cell_type": "code",
   "execution_count": 12,
   "metadata": {},
   "outputs": [
    {
     "name": "stdout",
     "output_type": "stream",
     "text": [
      "HEADLINES:\n",
      "[['running', 'shoes', 'extra'], ['class', 'crunch', 'intense', 'workout', 'pulley', 'system'], ['thousand', 'natural', 'product'], ['natural', 'product', 'explore', 'beauty', 'supplement'], ['fitness', 'weekend', 'south', 'beach', 'spark', 'activity']]\n",
      "\n",
      "LENGTH:\n",
      "4095\n",
      "\n"
     ]
    }
   ],
   "source": [
    "# remove none types\n",
    "\n",
    "clean = list(filter(None.__ne__, clean))\n",
    "print(\"HEADLINES:\\n{lines}\\n\".format(lines=clean[:5]))\n",
    "print(\"LENGTH:\\n{length}\\n\".format(length=len(clean)))"
   ]
  },
  {
   "cell_type": "code",
   "execution_count": 13,
   "metadata": {},
   "outputs": [],
   "source": [
    "# turn tokens back into strings\n",
    "# concatenate using whitespaces\n",
    "\n",
    "clean_sentences = [\" \".join(i) for i in clean]"
   ]
  },
  {
   "cell_type": "code",
   "execution_count": 14,
   "metadata": {},
   "outputs": [
    {
     "name": "stdout",
     "output_type": "stream",
     "text": [
      "['running shoes extra', 'class crunch intense workout pulley system', 'thousand natural product', 'natural product explore beauty supplement', 'fitness weekend south beach spark activity', 'kayla harrison sacrifice', 'sonic treatment alzheimers disease', 'ultrasound brain restore memory alzheimers needle onlyso farin mouse', 'apple researchkit really medical research', 'warning chantix drink taking might remember']\n"
     ]
    }
   ],
   "source": [
    "print(clean_sentences[0:10])"
   ]
  },
  {
   "cell_type": "markdown",
   "metadata": {},
   "source": [
    "#### Activity 7.02"
   ]
  },
  {
   "cell_type": "code",
   "execution_count": 15,
   "metadata": {},
   "outputs": [],
   "source": [
    "# define global variables\n",
    "\n",
    "number_words = 10\n",
    "number_docs = 10\n",
    "number_features = 1000"
   ]
  },
  {
   "cell_type": "code",
   "execution_count": 16,
   "metadata": {},
   "outputs": [
    {
     "name": "stdout",
     "output_type": "stream",
     "text": [
      "  (0, 320)\t1\n"
     ]
    }
   ],
   "source": [
    "# bag of words conversion\n",
    "# count vectorizer (raw counts)\n",
    "\n",
    "vectorizer1 = sklearn.feature_extraction.text.CountVectorizer(\n",
    "    analyzer=\"word\",\n",
    "    max_df=0.95, \n",
    "    min_df=10, \n",
    "    max_features=number_features\n",
    ")\n",
    "clean_vec1 = vectorizer1.fit_transform(clean_sentences)\n",
    "print(clean_vec1[0])\n",
    "\n",
    "feature_names_vec1 = vectorizer1.get_feature_names()"
   ]
  },
  {
   "cell_type": "code",
   "execution_count": 17,
   "metadata": {},
   "outputs": [],
   "source": [
    "# define function to calculate perplexity based on number of topics\n",
    "\n",
    "def perplexity_by_ntopic(data, ntopics):\n",
    "    output_dict = {\n",
    "        \"Number Of Topics\": [], \n",
    "        \"Perplexity Score\": []\n",
    "    }\n",
    "    \n",
    "    for t in ntopics:\n",
    "        lda = sklearn.decomposition.LatentDirichletAllocation(\n",
    "            n_components=t,\n",
    "            learning_method=\"online\",\n",
    "            random_state=0\n",
    "        )\n",
    "        lda.fit(data)\n",
    "        \n",
    "        output_dict[\"Number Of Topics\"].append(t)\n",
    "        output_dict[\"Perplexity Score\"].append(lda.perplexity(data))\n",
    "        \n",
    "    output_df = pandas.DataFrame(output_dict)\n",
    "    \n",
    "    index_min_perplexity = output_df[\"Perplexity Score\"].idxmin()\n",
    "    output_num_topics = output_df.loc[\n",
    "        index_min_perplexity,  # index\n",
    "        \"Number Of Topics\"  # column\n",
    "    ]\n",
    "        \n",
    "    return (output_df, output_num_topics)"
   ]
  },
  {
   "cell_type": "code",
   "execution_count": 18,
   "metadata": {},
   "outputs": [],
   "source": [
    "# execute function on vector of numbers of topics\n",
    "# takes several minutes\n",
    "\n",
    "df_perplexity, optimal_num_topics = perplexity_by_ntopic(\n",
    "    clean_vec1, \n",
    "    ntopics=[i for i in range(1, 21) if i % 2 == 0]\n",
    ")"
   ]
  },
  {
   "cell_type": "code",
   "execution_count": 19,
   "metadata": {},
   "outputs": [
    {
     "name": "stdout",
     "output_type": "stream",
     "text": [
      "   Number Of Topics  Perplexity Score\n",
      "0                 2        350.307315\n",
      "1                 4        401.997523\n",
      "2                 6        425.870398\n",
      "3                 8        461.893848\n",
      "4                10        475.041804\n",
      "5                12        481.215539\n",
      "6                14        505.080188\n",
      "7                16        509.406520\n",
      "8                18        527.267805\n",
      "9                20        533.020490\n"
     ]
    }
   ],
   "source": [
    "print(df_perplexity)"
   ]
  },
  {
   "cell_type": "code",
   "execution_count": 20,
   "metadata": {},
   "outputs": [
    {
     "data": {
      "text/plain": [
       "LatentDirichletAllocation(batch_size=128, doc_topic_prior=None,\n",
       "                          evaluate_every=-1, learning_decay=0.7,\n",
       "                          learning_method='online', learning_offset=10.0,\n",
       "                          max_doc_update_iter=100, max_iter=10,\n",
       "                          mean_change_tol=0.001, n_components=2, n_jobs=None,\n",
       "                          perp_tol=0.1, random_state=0, topic_word_prior=None,\n",
       "                          total_samples=1000000.0, verbose=0)"
      ]
     },
     "execution_count": 20,
     "metadata": {},
     "output_type": "execute_result"
    }
   ],
   "source": [
    "# define and fit lda model\n",
    "\n",
    "lda = sklearn.decomposition.LatentDirichletAllocation(\n",
    "    n_components=optimal_num_topics,\n",
    "    learning_method=\"online\",\n",
    "    random_state=0\n",
    ")\n",
    "lda.fit(clean_vec1)"
   ]
  },
  {
   "cell_type": "code",
   "execution_count": 21,
   "metadata": {},
   "outputs": [],
   "source": [
    "# define function to format raw output into nice tables\n",
    "\n",
    "def get_topics(mod, vec, names, docs, ndocs, nwords):\n",
    "    # word to topic matrix\n",
    "    W = mod.components_\n",
    "    W_norm = W / W.sum(axis=1)[:, numpy.newaxis]\n",
    "    # topic to document matrix\n",
    "    H = mod.transform(vec)\n",
    "    \n",
    "    W_dict = {}\n",
    "    H_dict = {}\n",
    "    \n",
    "    for tpc_idx, tpc_val in enumerate(W_norm):\n",
    "        topic = \"Topic{}\".format(tpc_idx)\n",
    "        \n",
    "        # formatting w\n",
    "        W_indices = tpc_val.argsort()[::-1][:nwords]\n",
    "        W_names_values = [\n",
    "            (round(tpc_val[j], 4), names[j]) \n",
    "            for j in W_indices\n",
    "        ]\n",
    "        W_dict[topic] = W_names_values\n",
    "        \n",
    "        # formatting h\n",
    "        H_indices = H[:, tpc_idx].argsort()[::-1][:ndocs]\n",
    "        H_names_values = [\n",
    "            (round(H[:, tpc_idx][j], 4), docs[j]) \n",
    "            for j in H_indices\n",
    "        ]\n",
    "        H_dict[topic] = H_names_values\n",
    "        \n",
    "    W_df = pandas.DataFrame(\n",
    "        W_dict, \n",
    "        index=[\"Word\" + str(i) for i in range(nwords)]\n",
    "    )\n",
    "    H_df = pandas.DataFrame(\n",
    "        H_dict,\n",
    "        index=[\"Doc\" + str(i) for i in range(ndocs)]\n",
    "    )\n",
    "        \n",
    "    return (W_df, H_df)"
   ]
  },
  {
   "cell_type": "code",
   "execution_count": 22,
   "metadata": {},
   "outputs": [],
   "source": [
    "# get nice tables\n",
    "\n",
    "W_df, H_df = get_topics(\n",
    "    mod=lda,\n",
    "    vec=clean_vec1,\n",
    "    names=feature_names_vec1,\n",
    "    docs=raw,\n",
    "    ndocs=number_docs, \n",
    "    nwords=number_words\n",
    ")"
   ]
  },
  {
   "cell_type": "code",
   "execution_count": 23,
   "metadata": {},
   "outputs": [
    {
     "name": "stdout",
     "output_type": "stream",
     "text": [
      "                    Topic0                Topic1\n",
      "Word0      (0.0784, study)      (0.0414, latfit)\n",
      "Word1     (0.0334, health)      (0.0308, cancer)\n",
      "Word2      (0.024, people)     (0.0211, patient)\n",
      "Word3      (0.0192, brain)       (0.0178, could)\n",
      "Word4  (0.018, researcher)      (0.0168, doctor)\n",
      "Word5      (0.0176, woman)       (0.0165, heart)\n",
      "Word6     (0.0159, report)     (0.0147, disease)\n",
      "Word7    (0.0154, obesity)  (0.0146, healthcare)\n",
      "Word8  (0.0145, scientist)      (0.0145, weight)\n",
      "Word9       (0.014, death)      (0.0105, expert)\n"
     ]
    }
   ],
   "source": [
    "# word-topic table\n",
    "\n",
    "print(W_df)"
   ]
  },
  {
   "cell_type": "code",
   "execution_count": 24,
   "metadata": {},
   "outputs": [
    {
     "name": "stdout",
     "output_type": "stream",
     "text": [
      "                                                 Topic0  \\\n",
      "Doc0  (0.943, RT @LATgreatreads: Black babies are le...   \n",
      "Doc1  (0.9373, Finally, here's some NON-anecdotal ev...   \n",
      "Doc2  (0.9373, MT @DebbieGoffa ICYMI: Pioneering AID...   \n",
      "Doc3  (0.9373, MT @LATerynbrown: Obamacare stories t...   \n",
      "Doc4  (0.9373, This trial in monkeys is the stronges...   \n",
      "Doc5  (0.9373, Side crunches can make love handles v...   \n",
      "Doc6  (0.937, Once again, medical experts confirm th...   \n",
      "Doc7  (0.9349, RT @LATerynbrown: \"Finding the gene i...   \n",
      "Doc8  (0.9346, Parents, give your kids advice about ...   \n",
      "Doc9  (0.9333, RT @bfisher_qsi: #LATFit 17,500 steps...   \n",
      "\n",
      "                                                 Topic1  \n",
      "Doc0  (0.9438, RT @LATgreatreads: Many U.S. troops w...  \n",
      "Doc1  (0.9406, Supplements to boost \"low T\" increase...  \n",
      "Doc2  (0.938, “Creating a contest with somebody’s li...  \n",
      "Doc3  (0.9374, Want to live for a long time? Prepare...  \n",
      "Doc4  (0.9373, Scientists show how math can help hea...  \n",
      "Doc5  (0.9339, Doctors often delay vaccines for youn...  \n",
      "Doc6  (0.9286, Southern California hospital executiv...  \n",
      "Doc7  (0.9284, Bisphenol levels that changed brain d...  \n",
      "Doc8  (0.9283, What do folks in the US, Canada, Fran...  \n",
      "Doc9  (0.9283, Warning: TVs, cars &amp; computers ma...  \n"
     ]
    }
   ],
   "source": [
    "# document-topic table\n",
    "\n",
    "print(H_df)"
   ]
  },
  {
   "cell_type": "code",
   "execution_count": 26,
   "metadata": {},
   "outputs": [
    {
     "data": {
      "text/html": [
       "\n",
       "<link rel=\"stylesheet\" type=\"text/css\" href=\"https://cdn.rawgit.com/bmabey/pyLDAvis/files/ldavis.v1.0.0.css\">\n",
       "\n",
       "\n",
       "<div id=\"ldavis_el589226825503236242442345543\"></div>\n",
       "<script type=\"text/javascript\">\n",
       "\n",
       "var ldavis_el589226825503236242442345543_data = {\"mdsDat\": {\"x\": [0.24547520815210985, -0.24547520815210985], \"y\": [0.0, 0.0], \"topics\": [1, 2], \"cluster\": [1, 1], \"Freq\": [50.16595295211758, 49.83404704788242]}, \"tinfo\": {\"Term\": [\"study\", \"latfit\", \"health\", \"cancer\", \"people\", \"brain\", \"researcher\", \"patient\", \"woman\", \"heart\", \"health\", \"brain\", \"researcher\", \"woman\", \"report\", \"american\", \"people\", \"among\", \"teens\", \"birth\", \"smoking\", \"scientist\", \"study\", \"california\", \"obesity\", \"death\", \"latfit\", \"cancer\", \"heart\", \"weight\", \"today\", \"better\", \"breast\", \"disease\", \"healthcare\", \"doctor\", \"patient\", \"might\", \"treatment\", \"could\", \"expert\"], \"Freq\": [490.0, 242.0, 196.0, 180.0, 142.0, 113.0, 106.0, 127.0, 104.0, 97.0, 196.3038114958004, 112.73990707492374, 105.59553848723124, 103.3530637841631, 93.41832271440676, 80.05740531586582, 140.7617753092607, 44.58941005126334, 51.18111092808246, 41.50596481240047, 49.14590035327676, 85.3495552557943, 460.6639937621984, 79.26083820484396, 90.48426707982459, 82.16506774914889, 241.7455084800701, 179.8549440710277, 96.41021012759346, 84.59281625932844, 54.72715936139175, 60.57408008451111, 56.706716313347705, 85.87105735855077, 85.32147967819145, 98.24068305452494, 123.06337217521516, 59.078287201009026, 60.92706466694673, 103.9589705524255, 61.0904747620383], \"Total\": [490.0, 242.0, 196.0, 180.0, 142.0, 113.0, 106.0, 127.0, 104.0, 97.0, 196.8763757702656, 113.3611743924474, 106.25954667359527, 104.04371925086782, 94.10937148217513, 80.79266804485326, 142.36786597327034, 45.13002788891392, 51.824943617302935, 42.06267688637664, 49.81492648995978, 87.49497358558587, 490.60704405033846, 84.496452630744, 101.28977914553595, 102.78039867569534, 242.57871506102995, 180.5150116908688, 97.02074662005738, 85.23956279413801, 55.27451512348939, 61.18379551625881, 57.2858423348032, 86.80118593936012, 86.27462810435705, 99.39758974518485, 127.74223403695102, 59.86158266390509, 62.01201126539529, 119.32748231356013, 69.79913974280312], \"Category\": [\"Default\", \"Default\", \"Default\", \"Default\", \"Default\", \"Default\", \"Default\", \"Default\", \"Default\", \"Default\", \"Topic1\", \"Topic1\", \"Topic1\", \"Topic1\", \"Topic1\", \"Topic1\", \"Topic1\", \"Topic1\", \"Topic1\", \"Topic1\", \"Topic1\", \"Topic1\", \"Topic1\", \"Topic1\", \"Topic1\", \"Topic1\", \"Topic2\", \"Topic2\", \"Topic2\", \"Topic2\", \"Topic2\", \"Topic2\", \"Topic2\", \"Topic2\", \"Topic2\", \"Topic2\", \"Topic2\", \"Topic2\", \"Topic2\", \"Topic2\", \"Topic2\"], \"logprob\": [10.0, 9.0, 8.0, 7.0, 6.0, 5.0, 4.0, 3.0, 2.0, 1.0, -3.3987, -3.9533, -4.0187, -4.0402, -4.1413, -4.2956, -3.7313, -4.8809, -4.743, -4.9525, -4.7836, -4.2316, -2.5457, -4.3056, -4.1732, -4.2696, -3.1838, -3.4796, -4.1031, -4.2339, -4.6694, -4.5679, -4.6338, -4.2189, -4.2253, -4.0843, -3.859, -4.5929, -4.562, -4.0277, -4.5594], \"loglift\": [10.0, 9.0, 8.0, 7.0, 6.0, 5.0, 4.0, 3.0, 2.0, 1.0, 0.6869, 0.6843, 0.6836, 0.6832, 0.6825, 0.6807, 0.6785, 0.6778, 0.6773, 0.6765, 0.6763, 0.665, 0.6269, 0.6259, 0.577, 0.466, 0.693, 0.6928, 0.6902, 0.6889, 0.6865, 0.6865, 0.6863, 0.6857, 0.6854, 0.6848, 0.6592, 0.6833, 0.6788, 0.5586, 0.5632]}, \"token.table\": {\"Topic\": [1, 2, 1, 2, 1, 2, 1, 2, 1, 2, 1, 2, 1, 2, 1, 2, 1, 2, 1, 2, 1, 2, 1, 2, 1, 2, 1, 2, 1, 2, 1, 2, 1, 2, 1, 2, 1, 2, 1, 2, 1, 2, 1, 2, 1, 2, 1, 2, 1, 2, 1, 2, 1, 2, 1, 2, 1, 2, 1, 2, 1, 2], \"Freq\": [0.9901888616376279, 0.012377360770470348, 0.9971188165619135, 0.02215819592359808, 0.01634419688354023, 0.996996009895954, 0.9985099168427641, 0.023774045639113433, 0.9968139497990993, 0.008821362387602649, 0.017456320082640458, 0.995010244710506, 0.9349504924808628, 0.05917408180258625, 0.0055397054828464675, 0.9971469869123641, 0.12570448742548748, 0.8715511128167133, 0.7978174929904284, 0.20431911405852435, 0.011520579922705278, 0.990769873352654, 0.0100606061229814, 0.9859394000521773, 0.12894141723183594, 0.8739362723491103, 0.9955485986226796, 0.00507932958480959, 0.011590893197365146, 0.9852259217760374, 0.01030707384592799, 0.9894790892090872, 0.004122373225319508, 0.997614320527321, 0.016705204832530646, 0.9856070851193081, 0.8885397989730585, 0.10859930876337381, 0.039141322661960715, 0.9628765374842335, 0.9903920314888532, 0.014048113921827705, 0.9882118914970625, 0.010625934317172715, 0.9975574272456429, 0.009410919124958894, 0.971484378092356, 0.022858455955114258, 0.9836409175445832, 0.02007430443968537, 0.9396522238940771, 0.06114873474364927, 0.9840821125943781, 0.01929572769792898, 0.0180915200751357, 0.9950336041324634, 0.01612590818446865, 0.9836803992525877, 0.01173164159012757, 0.9971895351608434, 0.9899684550073491, 0.009611344223372321], \"Term\": [\"american\", \"american\", \"among\", \"among\", \"better\", \"better\", \"birth\", \"birth\", \"brain\", \"brain\", \"breast\", \"breast\", \"california\", \"california\", \"cancer\", \"cancer\", \"could\", \"could\", \"death\", \"death\", \"disease\", \"disease\", \"doctor\", \"doctor\", \"expert\", \"expert\", \"health\", \"health\", \"healthcare\", \"healthcare\", \"heart\", \"heart\", \"latfit\", \"latfit\", \"might\", \"might\", \"obesity\", \"obesity\", \"patient\", \"patient\", \"people\", \"people\", \"report\", \"report\", \"researcher\", \"researcher\", \"scientist\", \"scientist\", \"smoking\", \"smoking\", \"study\", \"study\", \"teens\", \"teens\", \"today\", \"today\", \"treatment\", \"treatment\", \"weight\", \"weight\", \"woman\", \"woman\"]}, \"R\": 10, \"lambda.step\": 0.01, \"plot.opts\": {\"xlab\": \"PC1\", \"ylab\": \"PC2\"}, \"topic.order\": [1, 2]};\n",
       "\n",
       "function LDAvis_load_lib(url, callback){\n",
       "  var s = document.createElement('script');\n",
       "  s.src = url;\n",
       "  s.async = true;\n",
       "  s.onreadystatechange = s.onload = callback;\n",
       "  s.onerror = function(){console.warn(\"failed to load library \" + url);};\n",
       "  document.getElementsByTagName(\"head\")[0].appendChild(s);\n",
       "}\n",
       "\n",
       "if(typeof(LDAvis) !== \"undefined\"){\n",
       "   // already loaded: just create the visualization\n",
       "   !function(LDAvis){\n",
       "       new LDAvis(\"#\" + \"ldavis_el589226825503236242442345543\", ldavis_el589226825503236242442345543_data);\n",
       "   }(LDAvis);\n",
       "}else if(typeof define === \"function\" && define.amd){\n",
       "   // require.js is available: use it to load d3/LDAvis\n",
       "   require.config({paths: {d3: \"https://cdnjs.cloudflare.com/ajax/libs/d3/3.5.5/d3.min\"}});\n",
       "   require([\"d3\"], function(d3){\n",
       "      window.d3 = d3;\n",
       "      LDAvis_load_lib(\"https://cdn.rawgit.com/bmabey/pyLDAvis/files/ldavis.v1.0.0.js\", function(){\n",
       "        new LDAvis(\"#\" + \"ldavis_el589226825503236242442345543\", ldavis_el589226825503236242442345543_data);\n",
       "      });\n",
       "    });\n",
       "}else{\n",
       "    // require.js not available: dynamically load d3 & LDAvis\n",
       "    LDAvis_load_lib(\"https://cdnjs.cloudflare.com/ajax/libs/d3/3.5.5/d3.min.js\", function(){\n",
       "         LDAvis_load_lib(\"https://cdn.rawgit.com/bmabey/pyLDAvis/files/ldavis.v1.0.0.js\", function(){\n",
       "                 new LDAvis(\"#\" + \"ldavis_el589226825503236242442345543\", ldavis_el589226825503236242442345543_data);\n",
       "            })\n",
       "         });\n",
       "}\n",
       "</script>"
      ],
      "text/plain": [
       "<IPython.core.display.HTML object>"
      ]
     },
     "execution_count": 26,
     "metadata": {},
     "output_type": "execute_result"
    }
   ],
   "source": [
    "# iteractive plot\n",
    "# pca biplot and histogram\n",
    "\n",
    "lda_plot = pyLDAvis.sklearn.prepare(lda, clean_vec1, vectorizer1, R=10)\n",
    "pyLDAvis.display(lda_plot)"
   ]
  },
  {
   "cell_type": "markdown",
   "metadata": {},
   "source": [
    "#### Activity 7.03"
   ]
  },
  {
   "cell_type": "code",
   "execution_count": 27,
   "metadata": {},
   "outputs": [
    {
     "name": "stdout",
     "output_type": "stream",
     "text": [
      "\n"
     ]
    }
   ],
   "source": [
    "# bag of words conversion\n",
    "# tf-idf method\n",
    "\n",
    "vectorizer2 = sklearn.feature_extraction.text.TfidfVectorizer(\n",
    "    analyzer=\"word\",\n",
    "    max_df=0.5, \n",
    "    min_df=20, \n",
    "    max_features=number_features,\n",
    "    smooth_idf=False\n",
    ")\n",
    "clean_vec2 = vectorizer2.fit_transform(clean_sentences)\n",
    "print(clean_vec2[0])\n",
    "\n",
    "feature_names_vec2 = vectorizer2.get_feature_names()"
   ]
  },
  {
   "cell_type": "code",
   "execution_count": 28,
   "metadata": {},
   "outputs": [
    {
     "data": {
      "text/plain": [
       "NMF(alpha=0.1, beta_loss='frobenius', init='nndsvda', l1_ratio=0.5,\n",
       "    max_iter=200, n_components=2, random_state=0, shuffle=False, solver='mu',\n",
       "    tol=0.0001, verbose=0)"
      ]
     },
     "execution_count": 28,
     "metadata": {},
     "output_type": "execute_result"
    }
   ],
   "source": [
    "# define and fit nmf model\n",
    "\n",
    "nmf = sklearn.decomposition.NMF(\n",
    "    n_components=optimal_num_topics,\n",
    "    init=\"nndsvda\",\n",
    "    solver=\"mu\",\n",
    "    beta_loss=\"frobenius\",\n",
    "    random_state=0, \n",
    "    alpha=0.1, \n",
    "    l1_ratio=0.5\n",
    ")\n",
    "nmf.fit(clean_vec2)"
   ]
  },
  {
   "cell_type": "code",
   "execution_count": 29,
   "metadata": {},
   "outputs": [],
   "source": [
    "# get nicely formatted result tables\n",
    "\n",
    "W_df, H_df = get_topics(\n",
    "    mod=nmf,\n",
    "    vec=clean_vec2,\n",
    "    names=feature_names_vec2,\n",
    "    docs=raw,\n",
    "    ndocs=number_docs, \n",
    "    nwords=number_words\n",
    ")"
   ]
  },
  {
   "cell_type": "code",
   "execution_count": 30,
   "metadata": {},
   "outputs": [
    {
     "name": "stdout",
     "output_type": "stream",
     "text": [
      "                  Topic0                Topic1\n",
      "Word0    (0.3764, study)      (0.5933, latfit)\n",
      "Word1   (0.0258, cancer)        (0.049, steps)\n",
      "Word2   (0.0208, people)       (0.0449, today)\n",
      "Word3  (0.0184, obesity)    (0.0405, exercise)\n",
      "Word4   (0.0184, health)  (0.0274, healthtips)\n",
      "Word5    (0.0181, brain)     (0.0258, workout)\n",
      "Word6  (0.0173, suggest)     (0.0204, getting)\n",
      "Word7   (0.0168, weight)     (0.0193, fitness)\n",
      "Word8    (0.0153, woman)       (0.0143, great)\n",
      "Word9    (0.0131, death)     (0.0132, morning)\n"
     ]
    }
   ],
   "source": [
    "# word-topic table\n",
    "\n",
    "print(W_df)"
   ]
  },
  {
   "cell_type": "code",
   "execution_count": 31,
   "metadata": {},
   "outputs": [
    {
     "name": "stdout",
     "output_type": "stream",
     "text": [
      "                                                 Topic0  \\\n",
      "Doc0  (0.2032, How did H7N9 get from wild birds to c...   \n",
      "Doc1  (0.2032, ICYMI MT @LATerynbrown @chadterhune L...   \n",
      "Doc2  (0.2032, You can get kids to cut down on scree...   \n",
      "Doc3  (0.2032, Avatars often reflect a reality about...   \n",
      "Doc4  (0.2032, If you've been eating 5 servings of f...   \n",
      "Doc5  (0.2032, Four economical workout machines will...   \n",
      "Doc6  (0.2032, State Dept: Security at Libya consula...   \n",
      "Doc7  (0.2032, California seeks limits on small-busi...   \n",
      "Doc8  (0.2032, King Richard III's body provides some...   \n",
      "Doc9  (0.2032, For seniors -- even seniors with memo...   \n",
      "\n",
      "                                                 Topic1  \n",
      "Doc0  (0.2276, Get too much sun today? An anti-infla...  \n",
      "Doc1  (0.2276, Summer camp with a twist: Physical th...  \n",
      "Doc2  (0.2276, How the month you were conceived can ...  \n",
      "Doc3  (0.2276, Study: Contraceptives could prevent a...  \n",
      "Doc4  (0.2276, At one point in the 1990s, 18% of hig...  \n",
      "Doc5  (0.2276, RT @lauraelizdavis: .@renelynch inspi...  \n",
      "Doc6  (0.2276, 'Immunize, immunize!': Doctors counte...  \n",
      "Doc7  (0.2276, RT @annagorman: USC buys Verdugo Hill...  \n",
      "Doc8  (0.2276, FDA approves a brain wave device to h...  \n",
      "Doc9  (0.2276, RT @julie_cart: Single dose of ADHD d...  \n"
     ]
    }
   ],
   "source": [
    "# document-topic table\n",
    "\n",
    "print(H_df)"
   ]
  }
 ],
 "metadata": {
  "kernelspec": {
   "display_name": "Python 3",
   "language": "python",
   "name": "python3"
  },
  "language_info": {
   "codemirror_mode": {
    "name": "ipython",
    "version": 3
   },
   "file_extension": ".py",
   "mimetype": "text/x-python",
   "name": "python",
   "nbconvert_exporter": "python",
   "pygments_lexer": "ipython3",
   "version": "3.6.8"
  }
 },
 "nbformat": 4,
 "nbformat_minor": 2
}
